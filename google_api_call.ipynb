{
 "cells": [
  {
   "cell_type": "markdown",
   "metadata": {},
   "source": [
    "## I have used editdistance library (which gives Levenshtein distance only) instead of Levenshtein library due to C++ 14.0 errors on my laptop. "
   ]
  },
  {
   "cell_type": "code",
   "execution_count": 81,
   "metadata": {},
   "outputs": [
    {
     "name": "stdout",
     "output_type": "stream",
     "text": [
      "Collecting editdistance\n",
      "  Downloading https://files.pythonhosted.org/packages/5a/21/3178b32699c94aff68239372e30e01b2707f6b5438d8732d4356162fa3b1/editdistance-0.5.3-cp37-cp37m-win_amd64.whl\n",
      "Installing collected packages: editdistance\n",
      "Successfully installed editdistance-0.5.3\n"
     ]
    }
   ],
   "source": [
    "#!pip install editdistance"
   ]
  },
  {
   "cell_type": "code",
   "execution_count": 90,
   "metadata": {
    "colab": {
     "base_uri": "https://localhost:8080/",
     "height": 362
    },
    "colab_type": "code",
    "id": "50r8rRT64tuC",
    "outputId": "d859075d-68e4-4e05-acfe-0f1f5fd90fc4"
   },
   "outputs": [],
   "source": [
    "# This is the Main function to use Google ASR\n",
    "# import Levenshtein as Lev\n",
    "import editdistance\n",
    "import io\n",
    "import os\n",
    "    # Imports the Google Cloud client library\n",
    "    # [START speech_python_migration_imports]\n",
    "from google.cloud import speech\n",
    "from google.cloud.speech import enums\n",
    "from google.cloud.speech import types\n",
    "def google_recognize(audio_name,auth_key):\n",
    "\n",
    "    # [END speech_python_migration_imports]\n",
    "\n",
    "    os.environ[\"GOOGLE_APPLICATION_CREDENTIALS\"]=auth_key\n",
    "\n",
    "    # Instantiates a client\n",
    "    # [START speech_python_migration_client]\n",
    "    client = speech.SpeechClient()\n",
    "    # [END speech_python_migration_client]\n",
    "\n",
    "    # The name of the audio file to transcribe\n",
    "    file_name = audio_name\n",
    "\n",
    "    # Loads the audio into memory\n",
    "    with io.open(file_name, 'rb') as audio_file:\n",
    "        content = audio_file.read()\n",
    "        audio = types.RecognitionAudio(content=content)\n",
    "\n",
    "    config = types.RecognitionConfig(\n",
    "        encoding=enums.RecognitionConfig.AudioEncoding.LINEAR16,\n",
    "        sample_rate_hertz=16000,\n",
    "        language_code='en-US')\n",
    "\n",
    "    # Detects speech in the audio file\n",
    "    response = client.recognize(config, audio)\n",
    "    for result in response.results:\n",
    "#         print(result)\n",
    "        return result.alternatives[0].transcript\n",
    "    # [END speech_quickstart]\n"
   ]
  },
  {
   "cell_type": "code",
   "execution_count": 91,
   "metadata": {},
   "outputs": [
    {
     "name": "stdout",
     "output_type": "stream",
     "text": [
      "the Birch canoe slid on the smooth planks\n"
     ]
    }
   ],
   "source": [
    "def main():\n",
    "    key = \"HW5-DLSP-952006e38a74.json\"\n",
    "    print(google_recognize(\"S_01_01.wav\",key))\n",
    "main()"
   ]
  },
  {
   "cell_type": "markdown",
   "metadata": {
    "colab_type": "text",
    "id": "eRJ6zBjv4tuH"
   },
   "source": [
    "## 6. Evaluation matrix\n",
    "\n",
    "We use the metric of word error rate' (WER) to evaluate the performance of the ASR systems. WER is calculated by first identifying the number of words that the ASR system correctly recognizes. Then the total number of incorrect word substitutions $W_S$, deletions $W_D$ and insertions $W_I$ are also counted by comparing the ASR system's output transcription to the ground truth transcription. The value of WER is computed by dividing the sum of substitutions, deletions and insertions by the total number words $N_W$ in the reference transcription.\n",
    "\\begin{equation}\n",
    "\\mathrm{WER}=\\frac{W_S + W_D + W_I}{N_{W}} \\times 100\n",
    "\\end{equation}\n",
    "\n",
    "We can use Levenshtein distance to calculate the WER between two sentences."
   ]
  },
  {
   "cell_type": "code",
   "execution_count": 92,
   "metadata": {
    "colab": {},
    "colab_type": "code",
    "id": "40WRK3EN4tuH"
   },
   "outputs": [],
   "source": [
    "#Here is the function calculate WER\n",
    "def wer(s1, s2):\n",
    "\n",
    "    s1 =s1.lower()\n",
    "    s2 =s2.lower()\n",
    "    b = set(s1.lower().split() + s2.lower().split())\n",
    "    \n",
    "    word2char = dict(zip(b, range(len(b))))\n",
    "\n",
    "\n",
    "    w1 = [chr(word2char[w]) for w in s1.split()]\n",
    "    w2 = [chr(word2char[w]) for w in s2.split()]\n",
    "    return editdistance.eval(''.join(w1), ''.join(w2))/float(len(s2.split()))"
   ]
  },
  {
   "cell_type": "code",
   "execution_count": 93,
   "metadata": {
    "colab": {},
    "colab_type": "code",
    "id": "wyx-bWCI4tuJ",
    "outputId": "deb35c26-9537-4bf3-ac02-7a4291f95fc5"
   },
   "outputs": [
    {
     "name": "stdout",
     "output_type": "stream",
     "text": [
      "WER Result: 0.0\n"
     ]
    }
   ],
   "source": [
    "real_sen = \"the birch canoe slid on the smooth planks\" # Label\n",
    "key = \"HW5-DLSP-952006e38a74.json\"\n",
    "pred_sen = google_recognize(\"S_01_01.wav\",key)\n",
    "wer_res = wer(pred_sen,real_sen)\n",
    "\n",
    "print(\"WER Result:\",wer_res )"
   ]
  },
  {
   "cell_type": "markdown",
   "metadata": {},
   "source": [
    "### Please note that there might be some errors of grpc timeout for requesting to Google API because sometimes internet connectivity drops. In such cases I have resumed previous job from where it left."
   ]
  },
  {
   "cell_type": "code",
   "execution_count": 94,
   "metadata": {
    "colab": {},
    "colab_type": "code",
    "id": "Y2OVvwnA4tuL"
   },
   "outputs": [],
   "source": [
    "import os\n",
    "# test_file_names=[]\n",
    "# for root, dirs, files in os.walk(\"TIMIT_full\\\\TIMIT_full\\\\test/\"):\n",
    "#     for file in files:\n",
    "#         if file.endswith(\".txt\"):\n",
    "#              test_file_names.append(os.path.join(root, file))\n",
    "test_txt_files=[]\n",
    "for root, dirs, files in os.walk(\"TIMIT_full\\\\TIMIT_full\\\\test/\"):\n",
    "    for file in files:\n",
    "        if file.endswith(\".txt\"):\n",
    "             test_txt_files.append(os.path.join(root, file))\n",
    "\n",
    "test_wav_files=[]\n",
    "for root, dirs, files in os.walk(\"TIMIT_full\\\\TIMIT_full\\\\test/\"):\n",
    "    for file in files:\n",
    "        if file.endswith(\".wav\"):\n",
    "             test_wav_files.append(os.path.join(root, file))"
   ]
  },
  {
   "cell_type": "code",
   "execution_count": 95,
   "metadata": {
    "colab": {},
    "colab_type": "code",
    "id": "bDCIstBu4tuN"
   },
   "outputs": [
    {
     "name": "stdout",
     "output_type": "stream",
     "text": [
      "At  0 WER is :  0.09090909090909091\n",
      "At  50 WER is :  0.18181818181818182\n",
      "At  100 WER is :  0.09090909090909091\n",
      "At  150 WER is :  0.09090909090909091\n",
      "At  200 WER is :  0.18181818181818182\n",
      "At  250 WER is :  0.09090909090909091\n",
      "At  300 WER is :  0.09090909090909091\n",
      "At  350 WER is :  0.18181818181818182\n",
      "At  400 WER is :  0.18181818181818182\n",
      "At  450 WER is :  0.18181818181818182\n",
      "At  500 WER is :  0.18181818181818182\n",
      "At  550 WER is :  0.18181818181818182\n",
      "At  600 WER is :  0.09090909090909091\n",
      "At  650 WER is :  0.18181818181818182\n",
      "At  700 WER is :  0.18181818181818182\n",
      "At  750 WER is :  0.18181818181818182\n",
      "At  800 WER is :  0.09090909090909091\n",
      "At  850 WER is :  0.09090909090909091\n",
      "At  900 WER is :  0.09090909090909091\n"
     ]
    },
    {
     "ename": "Unknown",
     "evalue": "None Stream removed",
     "output_type": "error",
     "traceback": [
      "\u001b[1;31m---------------------------------------------------------------------------\u001b[0m",
      "\u001b[1;31m_Rendezvous\u001b[0m                               Traceback (most recent call last)",
      "\u001b[1;32mC:\\ProgramData\\Anaconda3\\lib\\site-packages\\google\\api_core\\grpc_helpers.py\u001b[0m in \u001b[0;36merror_remapped_callable\u001b[1;34m(*args, **kwargs)\u001b[0m\n\u001b[0;32m     56\u001b[0m         \u001b[1;32mtry\u001b[0m\u001b[1;33m:\u001b[0m\u001b[1;33m\u001b[0m\u001b[1;33m\u001b[0m\u001b[0m\n\u001b[1;32m---> 57\u001b[1;33m             \u001b[1;32mreturn\u001b[0m \u001b[0mcallable_\u001b[0m\u001b[1;33m(\u001b[0m\u001b[1;33m*\u001b[0m\u001b[0margs\u001b[0m\u001b[1;33m,\u001b[0m \u001b[1;33m**\u001b[0m\u001b[0mkwargs\u001b[0m\u001b[1;33m)\u001b[0m\u001b[1;33m\u001b[0m\u001b[1;33m\u001b[0m\u001b[0m\n\u001b[0m\u001b[0;32m     58\u001b[0m         \u001b[1;32mexcept\u001b[0m \u001b[0mgrpc\u001b[0m\u001b[1;33m.\u001b[0m\u001b[0mRpcError\u001b[0m \u001b[1;32mas\u001b[0m \u001b[0mexc\u001b[0m\u001b[1;33m:\u001b[0m\u001b[1;33m\u001b[0m\u001b[1;33m\u001b[0m\u001b[0m\n",
      "\u001b[1;32mC:\\ProgramData\\Anaconda3\\lib\\site-packages\\grpc\\_channel.py\u001b[0m in \u001b[0;36m__call__\u001b[1;34m(self, request, timeout, metadata, credentials, wait_for_ready, compression)\u001b[0m\n\u001b[0;32m    689\u001b[0m                                       wait_for_ready, compression)\n\u001b[1;32m--> 690\u001b[1;33m         \u001b[1;32mreturn\u001b[0m \u001b[0m_end_unary_response_blocking\u001b[0m\u001b[1;33m(\u001b[0m\u001b[0mstate\u001b[0m\u001b[1;33m,\u001b[0m \u001b[0mcall\u001b[0m\u001b[1;33m,\u001b[0m \u001b[1;32mFalse\u001b[0m\u001b[1;33m,\u001b[0m \u001b[1;32mNone\u001b[0m\u001b[1;33m)\u001b[0m\u001b[1;33m\u001b[0m\u001b[1;33m\u001b[0m\u001b[0m\n\u001b[0m\u001b[0;32m    691\u001b[0m \u001b[1;33m\u001b[0m\u001b[0m\n",
      "\u001b[1;32mC:\\ProgramData\\Anaconda3\\lib\\site-packages\\grpc\\_channel.py\u001b[0m in \u001b[0;36m_end_unary_response_blocking\u001b[1;34m(state, call, with_call, deadline)\u001b[0m\n\u001b[0;32m    591\u001b[0m     \u001b[1;32melse\u001b[0m\u001b[1;33m:\u001b[0m\u001b[1;33m\u001b[0m\u001b[1;33m\u001b[0m\u001b[0m\n\u001b[1;32m--> 592\u001b[1;33m         \u001b[1;32mraise\u001b[0m \u001b[0m_Rendezvous\u001b[0m\u001b[1;33m(\u001b[0m\u001b[0mstate\u001b[0m\u001b[1;33m,\u001b[0m \u001b[1;32mNone\u001b[0m\u001b[1;33m,\u001b[0m \u001b[1;32mNone\u001b[0m\u001b[1;33m,\u001b[0m \u001b[0mdeadline\u001b[0m\u001b[1;33m)\u001b[0m\u001b[1;33m\u001b[0m\u001b[1;33m\u001b[0m\u001b[0m\n\u001b[0m\u001b[0;32m    593\u001b[0m \u001b[1;33m\u001b[0m\u001b[0m\n",
      "\u001b[1;31m_Rendezvous\u001b[0m: <_Rendezvous of RPC that terminated with:\n\tstatus = StatusCode.UNKNOWN\n\tdetails = \"Stream removed\"\n\tdebug_error_string = \"{\"created\":\"@1574384850.262000000\",\"description\":\"Error received from peer ipv6:[2607:f8b0:4009:804::200a]:443\",\"file\":\"src/core/lib/surface/call.cc\",\"file_line\":1055,\"grpc_message\":\"Stream removed\",\"grpc_status\":2}\"\n>",
      "\nThe above exception was the direct cause of the following exception:\n",
      "\u001b[1;31mUnknown\u001b[0m                                   Traceback (most recent call last)",
      "\u001b[1;32m<ipython-input-95-16b6d0cbde5a>\u001b[0m in \u001b[0;36m<module>\u001b[1;34m\u001b[0m\n\u001b[0;32m      2\u001b[0m \u001b[1;32mfor\u001b[0m \u001b[0mi\u001b[0m \u001b[1;32min\u001b[0m \u001b[0mrange\u001b[0m\u001b[1;33m(\u001b[0m\u001b[0mlen\u001b[0m\u001b[1;33m(\u001b[0m\u001b[0mtest_file_names\u001b[0m\u001b[1;33m)\u001b[0m\u001b[1;33m)\u001b[0m\u001b[1;33m:\u001b[0m\u001b[1;33m\u001b[0m\u001b[1;33m\u001b[0m\u001b[0m\n\u001b[0;32m      3\u001b[0m     \u001b[0mreal_sen\u001b[0m\u001b[1;33m=\u001b[0m\u001b[1;34m\" \"\u001b[0m\u001b[1;33m.\u001b[0m\u001b[0mjoin\u001b[0m\u001b[1;33m(\u001b[0m\u001b[0mopen\u001b[0m\u001b[1;33m(\u001b[0m\u001b[0mtest_file_names\u001b[0m\u001b[1;33m[\u001b[0m\u001b[0mi\u001b[0m\u001b[1;33m]\u001b[0m\u001b[1;33m)\u001b[0m\u001b[1;33m.\u001b[0m\u001b[0mread\u001b[0m\u001b[1;33m(\u001b[0m\u001b[1;33m)\u001b[0m\u001b[1;33m.\u001b[0m\u001b[0msplit\u001b[0m\u001b[1;33m(\u001b[0m\u001b[1;34m\" \"\u001b[0m\u001b[1;33m)\u001b[0m\u001b[1;33m[\u001b[0m\u001b[1;36m2\u001b[0m\u001b[1;33m:\u001b[0m\u001b[1;33m]\u001b[0m\u001b[1;33m)\u001b[0m\u001b[1;33m\u001b[0m\u001b[1;33m\u001b[0m\u001b[0m\n\u001b[1;32m----> 4\u001b[1;33m     \u001b[0mpred_sen\u001b[0m \u001b[1;33m=\u001b[0m \u001b[0mgoogle_recognize\u001b[0m\u001b[1;33m(\u001b[0m\u001b[0mtest_wav_files\u001b[0m\u001b[1;33m[\u001b[0m\u001b[0mi\u001b[0m\u001b[1;33m]\u001b[0m\u001b[1;33m,\u001b[0m\u001b[0mkey\u001b[0m\u001b[1;33m)\u001b[0m\u001b[1;33m\u001b[0m\u001b[1;33m\u001b[0m\u001b[0m\n\u001b[0m\u001b[0;32m      5\u001b[0m     \u001b[0mwer_res\u001b[0m \u001b[1;33m=\u001b[0m \u001b[0mwer\u001b[0m\u001b[1;33m(\u001b[0m\u001b[0mpred_sen\u001b[0m\u001b[1;33m,\u001b[0m\u001b[0mreal_sen\u001b[0m\u001b[1;33m)\u001b[0m\u001b[1;33m\u001b[0m\u001b[1;33m\u001b[0m\u001b[0m\n\u001b[0;32m      6\u001b[0m     \u001b[0mwer_list\u001b[0m\u001b[1;33m.\u001b[0m\u001b[0mappend\u001b[0m\u001b[1;33m(\u001b[0m\u001b[0mwer_res\u001b[0m\u001b[1;33m)\u001b[0m\u001b[1;33m\u001b[0m\u001b[1;33m\u001b[0m\u001b[0m\n",
      "\u001b[1;32m<ipython-input-90-0e8c9669ffb0>\u001b[0m in \u001b[0;36mgoogle_recognize\u001b[1;34m(audio_name, auth_key)\u001b[0m\n\u001b[0;32m     34\u001b[0m \u001b[1;33m\u001b[0m\u001b[0m\n\u001b[0;32m     35\u001b[0m     \u001b[1;31m# Detects speech in the audio file\u001b[0m\u001b[1;33m\u001b[0m\u001b[1;33m\u001b[0m\u001b[1;33m\u001b[0m\u001b[0m\n\u001b[1;32m---> 36\u001b[1;33m     \u001b[0mresponse\u001b[0m \u001b[1;33m=\u001b[0m \u001b[0mclient\u001b[0m\u001b[1;33m.\u001b[0m\u001b[0mrecognize\u001b[0m\u001b[1;33m(\u001b[0m\u001b[0mconfig\u001b[0m\u001b[1;33m,\u001b[0m \u001b[0maudio\u001b[0m\u001b[1;33m)\u001b[0m\u001b[1;33m\u001b[0m\u001b[1;33m\u001b[0m\u001b[0m\n\u001b[0m\u001b[0;32m     37\u001b[0m     \u001b[1;32mfor\u001b[0m \u001b[0mresult\u001b[0m \u001b[1;32min\u001b[0m \u001b[0mresponse\u001b[0m\u001b[1;33m.\u001b[0m\u001b[0mresults\u001b[0m\u001b[1;33m:\u001b[0m\u001b[1;33m\u001b[0m\u001b[1;33m\u001b[0m\u001b[0m\n\u001b[0;32m     38\u001b[0m \u001b[1;31m#         print(result)\u001b[0m\u001b[1;33m\u001b[0m\u001b[1;33m\u001b[0m\u001b[1;33m\u001b[0m\u001b[0m\n",
      "\u001b[1;32mC:\\ProgramData\\Anaconda3\\lib\\site-packages\\google\\cloud\\speech_v1\\gapic\\speech_client.py\u001b[0m in \u001b[0;36mrecognize\u001b[1;34m(self, config, audio, retry, timeout, metadata)\u001b[0m\n\u001b[0;32m    254\u001b[0m         \u001b[0mrequest\u001b[0m \u001b[1;33m=\u001b[0m \u001b[0mcloud_speech_pb2\u001b[0m\u001b[1;33m.\u001b[0m\u001b[0mRecognizeRequest\u001b[0m\u001b[1;33m(\u001b[0m\u001b[0mconfig\u001b[0m\u001b[1;33m=\u001b[0m\u001b[0mconfig\u001b[0m\u001b[1;33m,\u001b[0m \u001b[0maudio\u001b[0m\u001b[1;33m=\u001b[0m\u001b[0maudio\u001b[0m\u001b[1;33m)\u001b[0m\u001b[1;33m\u001b[0m\u001b[1;33m\u001b[0m\u001b[0m\n\u001b[0;32m    255\u001b[0m         return self._inner_api_calls[\"recognize\"](\n\u001b[1;32m--> 256\u001b[1;33m             \u001b[0mrequest\u001b[0m\u001b[1;33m,\u001b[0m \u001b[0mretry\u001b[0m\u001b[1;33m=\u001b[0m\u001b[0mretry\u001b[0m\u001b[1;33m,\u001b[0m \u001b[0mtimeout\u001b[0m\u001b[1;33m=\u001b[0m\u001b[0mtimeout\u001b[0m\u001b[1;33m,\u001b[0m \u001b[0mmetadata\u001b[0m\u001b[1;33m=\u001b[0m\u001b[0mmetadata\u001b[0m\u001b[1;33m\u001b[0m\u001b[1;33m\u001b[0m\u001b[0m\n\u001b[0m\u001b[0;32m    257\u001b[0m         )\n\u001b[0;32m    258\u001b[0m \u001b[1;33m\u001b[0m\u001b[0m\n",
      "\u001b[1;32mC:\\ProgramData\\Anaconda3\\lib\\site-packages\\google\\api_core\\gapic_v1\\method.py\u001b[0m in \u001b[0;36m__call__\u001b[1;34m(self, *args, **kwargs)\u001b[0m\n\u001b[0;32m    141\u001b[0m             \u001b[0mkwargs\u001b[0m\u001b[1;33m[\u001b[0m\u001b[1;34m\"metadata\"\u001b[0m\u001b[1;33m]\u001b[0m \u001b[1;33m=\u001b[0m \u001b[0mmetadata\u001b[0m\u001b[1;33m\u001b[0m\u001b[1;33m\u001b[0m\u001b[0m\n\u001b[0;32m    142\u001b[0m \u001b[1;33m\u001b[0m\u001b[0m\n\u001b[1;32m--> 143\u001b[1;33m         \u001b[1;32mreturn\u001b[0m \u001b[0mwrapped_func\u001b[0m\u001b[1;33m(\u001b[0m\u001b[1;33m*\u001b[0m\u001b[0margs\u001b[0m\u001b[1;33m,\u001b[0m \u001b[1;33m**\u001b[0m\u001b[0mkwargs\u001b[0m\u001b[1;33m)\u001b[0m\u001b[1;33m\u001b[0m\u001b[1;33m\u001b[0m\u001b[0m\n\u001b[0m\u001b[0;32m    144\u001b[0m \u001b[1;33m\u001b[0m\u001b[0m\n\u001b[0;32m    145\u001b[0m \u001b[1;33m\u001b[0m\u001b[0m\n",
      "\u001b[1;32mC:\\ProgramData\\Anaconda3\\lib\\site-packages\\google\\api_core\\retry.py\u001b[0m in \u001b[0;36mretry_wrapped_func\u001b[1;34m(*args, **kwargs)\u001b[0m\n\u001b[0;32m    275\u001b[0m                 \u001b[0msleep_generator\u001b[0m\u001b[1;33m,\u001b[0m\u001b[1;33m\u001b[0m\u001b[1;33m\u001b[0m\u001b[0m\n\u001b[0;32m    276\u001b[0m                 \u001b[0mself\u001b[0m\u001b[1;33m.\u001b[0m\u001b[0m_deadline\u001b[0m\u001b[1;33m,\u001b[0m\u001b[1;33m\u001b[0m\u001b[1;33m\u001b[0m\u001b[0m\n\u001b[1;32m--> 277\u001b[1;33m                 \u001b[0mon_error\u001b[0m\u001b[1;33m=\u001b[0m\u001b[0mon_error\u001b[0m\u001b[1;33m,\u001b[0m\u001b[1;33m\u001b[0m\u001b[1;33m\u001b[0m\u001b[0m\n\u001b[0m\u001b[0;32m    278\u001b[0m             )\n\u001b[0;32m    279\u001b[0m \u001b[1;33m\u001b[0m\u001b[0m\n",
      "\u001b[1;32mC:\\ProgramData\\Anaconda3\\lib\\site-packages\\google\\api_core\\retry.py\u001b[0m in \u001b[0;36mretry_target\u001b[1;34m(target, predicate, sleep_generator, deadline, on_error)\u001b[0m\n\u001b[0;32m    180\u001b[0m     \u001b[1;32mfor\u001b[0m \u001b[0msleep\u001b[0m \u001b[1;32min\u001b[0m \u001b[0msleep_generator\u001b[0m\u001b[1;33m:\u001b[0m\u001b[1;33m\u001b[0m\u001b[1;33m\u001b[0m\u001b[0m\n\u001b[0;32m    181\u001b[0m         \u001b[1;32mtry\u001b[0m\u001b[1;33m:\u001b[0m\u001b[1;33m\u001b[0m\u001b[1;33m\u001b[0m\u001b[0m\n\u001b[1;32m--> 182\u001b[1;33m             \u001b[1;32mreturn\u001b[0m \u001b[0mtarget\u001b[0m\u001b[1;33m(\u001b[0m\u001b[1;33m)\u001b[0m\u001b[1;33m\u001b[0m\u001b[1;33m\u001b[0m\u001b[0m\n\u001b[0m\u001b[0;32m    183\u001b[0m \u001b[1;33m\u001b[0m\u001b[0m\n\u001b[0;32m    184\u001b[0m         \u001b[1;31m# pylint: disable=broad-except\u001b[0m\u001b[1;33m\u001b[0m\u001b[1;33m\u001b[0m\u001b[1;33m\u001b[0m\u001b[0m\n",
      "\u001b[1;32mC:\\ProgramData\\Anaconda3\\lib\\site-packages\\google\\api_core\\timeout.py\u001b[0m in \u001b[0;36mfunc_with_timeout\u001b[1;34m(*args, **kwargs)\u001b[0m\n\u001b[0;32m    212\u001b[0m             \u001b[1;34m\"\"\"Wrapped function that adds timeout.\"\"\"\u001b[0m\u001b[1;33m\u001b[0m\u001b[1;33m\u001b[0m\u001b[0m\n\u001b[0;32m    213\u001b[0m             \u001b[0mkwargs\u001b[0m\u001b[1;33m[\u001b[0m\u001b[1;34m\"timeout\"\u001b[0m\u001b[1;33m]\u001b[0m \u001b[1;33m=\u001b[0m \u001b[0mnext\u001b[0m\u001b[1;33m(\u001b[0m\u001b[0mtimeouts\u001b[0m\u001b[1;33m)\u001b[0m\u001b[1;33m\u001b[0m\u001b[1;33m\u001b[0m\u001b[0m\n\u001b[1;32m--> 214\u001b[1;33m             \u001b[1;32mreturn\u001b[0m \u001b[0mfunc\u001b[0m\u001b[1;33m(\u001b[0m\u001b[1;33m*\u001b[0m\u001b[0margs\u001b[0m\u001b[1;33m,\u001b[0m \u001b[1;33m**\u001b[0m\u001b[0mkwargs\u001b[0m\u001b[1;33m)\u001b[0m\u001b[1;33m\u001b[0m\u001b[1;33m\u001b[0m\u001b[0m\n\u001b[0m\u001b[0;32m    215\u001b[0m \u001b[1;33m\u001b[0m\u001b[0m\n\u001b[0;32m    216\u001b[0m         \u001b[1;32mreturn\u001b[0m \u001b[0mfunc_with_timeout\u001b[0m\u001b[1;33m\u001b[0m\u001b[1;33m\u001b[0m\u001b[0m\n",
      "\u001b[1;32mC:\\ProgramData\\Anaconda3\\lib\\site-packages\\google\\api_core\\grpc_helpers.py\u001b[0m in \u001b[0;36merror_remapped_callable\u001b[1;34m(*args, **kwargs)\u001b[0m\n\u001b[0;32m     57\u001b[0m             \u001b[1;32mreturn\u001b[0m \u001b[0mcallable_\u001b[0m\u001b[1;33m(\u001b[0m\u001b[1;33m*\u001b[0m\u001b[0margs\u001b[0m\u001b[1;33m,\u001b[0m \u001b[1;33m**\u001b[0m\u001b[0mkwargs\u001b[0m\u001b[1;33m)\u001b[0m\u001b[1;33m\u001b[0m\u001b[1;33m\u001b[0m\u001b[0m\n\u001b[0;32m     58\u001b[0m         \u001b[1;32mexcept\u001b[0m \u001b[0mgrpc\u001b[0m\u001b[1;33m.\u001b[0m\u001b[0mRpcError\u001b[0m \u001b[1;32mas\u001b[0m \u001b[0mexc\u001b[0m\u001b[1;33m:\u001b[0m\u001b[1;33m\u001b[0m\u001b[1;33m\u001b[0m\u001b[0m\n\u001b[1;32m---> 59\u001b[1;33m             \u001b[0msix\u001b[0m\u001b[1;33m.\u001b[0m\u001b[0mraise_from\u001b[0m\u001b[1;33m(\u001b[0m\u001b[0mexceptions\u001b[0m\u001b[1;33m.\u001b[0m\u001b[0mfrom_grpc_error\u001b[0m\u001b[1;33m(\u001b[0m\u001b[0mexc\u001b[0m\u001b[1;33m)\u001b[0m\u001b[1;33m,\u001b[0m \u001b[0mexc\u001b[0m\u001b[1;33m)\u001b[0m\u001b[1;33m\u001b[0m\u001b[1;33m\u001b[0m\u001b[0m\n\u001b[0m\u001b[0;32m     60\u001b[0m \u001b[1;33m\u001b[0m\u001b[0m\n\u001b[0;32m     61\u001b[0m     \u001b[1;32mreturn\u001b[0m \u001b[0merror_remapped_callable\u001b[0m\u001b[1;33m\u001b[0m\u001b[1;33m\u001b[0m\u001b[0m\n",
      "\u001b[1;32mC:\\ProgramData\\Anaconda3\\lib\\site-packages\\six.py\u001b[0m in \u001b[0;36mraise_from\u001b[1;34m(value, from_value)\u001b[0m\n",
      "\u001b[1;31mUnknown\u001b[0m: None Stream removed"
     ]
    }
   ],
   "source": [
    "# wer_list=[]\n",
    "for i in range(903,len(test_txt_files),1):\n",
    "    real_sen=\" \".join(open(test_txt_files[i]).read().split(\" \")[2:])\n",
    "    pred_sen = google_recognize(test_wav_files[i],key)\n",
    "    wer_res = wer(pred_sen,real_sen)\n",
    "    wer_list.append(wer_res)\n",
    "    if(i%50)==0:\n",
    "        print(\"At \",i,\"WER is : \",wer_res)"
   ]
  },
  {
   "cell_type": "code",
   "execution_count": 134,
   "metadata": {},
   "outputs": [
    {
     "name": "stdout",
     "output_type": "stream",
     "text": [
      "902\n"
     ]
    }
   ],
   "source": [
    "print(0+len(wer_list))"
   ]
  },
  {
   "cell_type": "code",
   "execution_count": 108,
   "metadata": {},
   "outputs": [
    {
     "name": "stdout",
     "output_type": "stream",
     "text": [
      "At  950 WER is :  0.09090909090909091\n",
      "At  1000 WER is :  0.18181818181818182\n",
      "At  1050 WER is :  0.18181818181818182\n",
      "At  1100 WER is :  0.09090909090909091\n"
     ]
    },
    {
     "ename": "Unknown",
     "evalue": "None Stream removed",
     "output_type": "error",
     "traceback": [
      "\u001b[1;31m---------------------------------------------------------------------------\u001b[0m",
      "\u001b[1;31m_Rendezvous\u001b[0m                               Traceback (most recent call last)",
      "\u001b[1;32mC:\\ProgramData\\Anaconda3\\lib\\site-packages\\google\\api_core\\grpc_helpers.py\u001b[0m in \u001b[0;36merror_remapped_callable\u001b[1;34m(*args, **kwargs)\u001b[0m\n\u001b[0;32m     56\u001b[0m         \u001b[1;32mtry\u001b[0m\u001b[1;33m:\u001b[0m\u001b[1;33m\u001b[0m\u001b[1;33m\u001b[0m\u001b[0m\n\u001b[1;32m---> 57\u001b[1;33m             \u001b[1;32mreturn\u001b[0m \u001b[0mcallable_\u001b[0m\u001b[1;33m(\u001b[0m\u001b[1;33m*\u001b[0m\u001b[0margs\u001b[0m\u001b[1;33m,\u001b[0m \u001b[1;33m**\u001b[0m\u001b[0mkwargs\u001b[0m\u001b[1;33m)\u001b[0m\u001b[1;33m\u001b[0m\u001b[1;33m\u001b[0m\u001b[0m\n\u001b[0m\u001b[0;32m     58\u001b[0m         \u001b[1;32mexcept\u001b[0m \u001b[0mgrpc\u001b[0m\u001b[1;33m.\u001b[0m\u001b[0mRpcError\u001b[0m \u001b[1;32mas\u001b[0m \u001b[0mexc\u001b[0m\u001b[1;33m:\u001b[0m\u001b[1;33m\u001b[0m\u001b[1;33m\u001b[0m\u001b[0m\n",
      "\u001b[1;32mC:\\ProgramData\\Anaconda3\\lib\\site-packages\\grpc\\_channel.py\u001b[0m in \u001b[0;36m__call__\u001b[1;34m(self, request, timeout, metadata, credentials, wait_for_ready, compression)\u001b[0m\n\u001b[0;32m    689\u001b[0m                                       wait_for_ready, compression)\n\u001b[1;32m--> 690\u001b[1;33m         \u001b[1;32mreturn\u001b[0m \u001b[0m_end_unary_response_blocking\u001b[0m\u001b[1;33m(\u001b[0m\u001b[0mstate\u001b[0m\u001b[1;33m,\u001b[0m \u001b[0mcall\u001b[0m\u001b[1;33m,\u001b[0m \u001b[1;32mFalse\u001b[0m\u001b[1;33m,\u001b[0m \u001b[1;32mNone\u001b[0m\u001b[1;33m)\u001b[0m\u001b[1;33m\u001b[0m\u001b[1;33m\u001b[0m\u001b[0m\n\u001b[0m\u001b[0;32m    691\u001b[0m \u001b[1;33m\u001b[0m\u001b[0m\n",
      "\u001b[1;32mC:\\ProgramData\\Anaconda3\\lib\\site-packages\\grpc\\_channel.py\u001b[0m in \u001b[0;36m_end_unary_response_blocking\u001b[1;34m(state, call, with_call, deadline)\u001b[0m\n\u001b[0;32m    591\u001b[0m     \u001b[1;32melse\u001b[0m\u001b[1;33m:\u001b[0m\u001b[1;33m\u001b[0m\u001b[1;33m\u001b[0m\u001b[0m\n\u001b[1;32m--> 592\u001b[1;33m         \u001b[1;32mraise\u001b[0m \u001b[0m_Rendezvous\u001b[0m\u001b[1;33m(\u001b[0m\u001b[0mstate\u001b[0m\u001b[1;33m,\u001b[0m \u001b[1;32mNone\u001b[0m\u001b[1;33m,\u001b[0m \u001b[1;32mNone\u001b[0m\u001b[1;33m,\u001b[0m \u001b[0mdeadline\u001b[0m\u001b[1;33m)\u001b[0m\u001b[1;33m\u001b[0m\u001b[1;33m\u001b[0m\u001b[0m\n\u001b[0m\u001b[0;32m    593\u001b[0m \u001b[1;33m\u001b[0m\u001b[0m\n",
      "\u001b[1;31m_Rendezvous\u001b[0m: <_Rendezvous of RPC that terminated with:\n\tstatus = StatusCode.UNKNOWN\n\tdetails = \"Stream removed\"\n\tdebug_error_string = \"{\"created\":\"@1574388467.245000000\",\"description\":\"Error received from peer ipv6:[2607:f8b0:4009:800::200a]:443\",\"file\":\"src/core/lib/surface/call.cc\",\"file_line\":1055,\"grpc_message\":\"Stream removed\",\"grpc_status\":2}\"\n>",
      "\nThe above exception was the direct cause of the following exception:\n",
      "\u001b[1;31mUnknown\u001b[0m                                   Traceback (most recent call last)",
      "\u001b[1;32m<ipython-input-108-36fcdbc21947>\u001b[0m in \u001b[0;36m<module>\u001b[1;34m\u001b[0m\n\u001b[0;32m      2\u001b[0m \u001b[1;32mfor\u001b[0m \u001b[0mi\u001b[0m \u001b[1;32min\u001b[0m \u001b[0mrange\u001b[0m\u001b[1;33m(\u001b[0m\u001b[1;36m903\u001b[0m\u001b[1;33m,\u001b[0m\u001b[0mlen\u001b[0m\u001b[1;33m(\u001b[0m\u001b[0mtest_file_names\u001b[0m\u001b[1;33m)\u001b[0m\u001b[1;33m,\u001b[0m\u001b[1;36m1\u001b[0m\u001b[1;33m)\u001b[0m\u001b[1;33m:\u001b[0m\u001b[1;33m\u001b[0m\u001b[1;33m\u001b[0m\u001b[0m\n\u001b[0;32m      3\u001b[0m     \u001b[0mreal_sen\u001b[0m\u001b[1;33m=\u001b[0m\u001b[1;34m\" \"\u001b[0m\u001b[1;33m.\u001b[0m\u001b[0mjoin\u001b[0m\u001b[1;33m(\u001b[0m\u001b[0mopen\u001b[0m\u001b[1;33m(\u001b[0m\u001b[0mtest_txt_files\u001b[0m\u001b[1;33m[\u001b[0m\u001b[0mi\u001b[0m\u001b[1;33m]\u001b[0m\u001b[1;33m)\u001b[0m\u001b[1;33m.\u001b[0m\u001b[0mread\u001b[0m\u001b[1;33m(\u001b[0m\u001b[1;33m)\u001b[0m\u001b[1;33m.\u001b[0m\u001b[0msplit\u001b[0m\u001b[1;33m(\u001b[0m\u001b[1;34m\" \"\u001b[0m\u001b[1;33m)\u001b[0m\u001b[1;33m[\u001b[0m\u001b[1;36m2\u001b[0m\u001b[1;33m:\u001b[0m\u001b[1;33m]\u001b[0m\u001b[1;33m)\u001b[0m\u001b[1;33m\u001b[0m\u001b[1;33m\u001b[0m\u001b[0m\n\u001b[1;32m----> 4\u001b[1;33m     \u001b[0mpred_sen\u001b[0m \u001b[1;33m=\u001b[0m \u001b[0mgoogle_recognize\u001b[0m\u001b[1;33m(\u001b[0m\u001b[0mtest_wav_files\u001b[0m\u001b[1;33m[\u001b[0m\u001b[0mi\u001b[0m\u001b[1;33m]\u001b[0m\u001b[1;33m,\u001b[0m\u001b[0mkey\u001b[0m\u001b[1;33m)\u001b[0m\u001b[1;33m\u001b[0m\u001b[1;33m\u001b[0m\u001b[0m\n\u001b[0m\u001b[0;32m      5\u001b[0m     \u001b[0mwer_res\u001b[0m \u001b[1;33m=\u001b[0m \u001b[0mwer\u001b[0m\u001b[1;33m(\u001b[0m\u001b[0mpred_sen\u001b[0m\u001b[1;33m,\u001b[0m\u001b[0mreal_sen\u001b[0m\u001b[1;33m)\u001b[0m\u001b[1;33m\u001b[0m\u001b[1;33m\u001b[0m\u001b[0m\n\u001b[0;32m      6\u001b[0m     \u001b[0mwer_list2\u001b[0m\u001b[1;33m.\u001b[0m\u001b[0mappend\u001b[0m\u001b[1;33m(\u001b[0m\u001b[0mwer_res\u001b[0m\u001b[1;33m)\u001b[0m\u001b[1;33m\u001b[0m\u001b[1;33m\u001b[0m\u001b[0m\n",
      "\u001b[1;32m<ipython-input-90-0e8c9669ffb0>\u001b[0m in \u001b[0;36mgoogle_recognize\u001b[1;34m(audio_name, auth_key)\u001b[0m\n\u001b[0;32m     34\u001b[0m \u001b[1;33m\u001b[0m\u001b[0m\n\u001b[0;32m     35\u001b[0m     \u001b[1;31m# Detects speech in the audio file\u001b[0m\u001b[1;33m\u001b[0m\u001b[1;33m\u001b[0m\u001b[1;33m\u001b[0m\u001b[0m\n\u001b[1;32m---> 36\u001b[1;33m     \u001b[0mresponse\u001b[0m \u001b[1;33m=\u001b[0m \u001b[0mclient\u001b[0m\u001b[1;33m.\u001b[0m\u001b[0mrecognize\u001b[0m\u001b[1;33m(\u001b[0m\u001b[0mconfig\u001b[0m\u001b[1;33m,\u001b[0m \u001b[0maudio\u001b[0m\u001b[1;33m)\u001b[0m\u001b[1;33m\u001b[0m\u001b[1;33m\u001b[0m\u001b[0m\n\u001b[0m\u001b[0;32m     37\u001b[0m     \u001b[1;32mfor\u001b[0m \u001b[0mresult\u001b[0m \u001b[1;32min\u001b[0m \u001b[0mresponse\u001b[0m\u001b[1;33m.\u001b[0m\u001b[0mresults\u001b[0m\u001b[1;33m:\u001b[0m\u001b[1;33m\u001b[0m\u001b[1;33m\u001b[0m\u001b[0m\n\u001b[0;32m     38\u001b[0m \u001b[1;31m#         print(result)\u001b[0m\u001b[1;33m\u001b[0m\u001b[1;33m\u001b[0m\u001b[1;33m\u001b[0m\u001b[0m\n",
      "\u001b[1;32mC:\\ProgramData\\Anaconda3\\lib\\site-packages\\google\\cloud\\speech_v1\\gapic\\speech_client.py\u001b[0m in \u001b[0;36mrecognize\u001b[1;34m(self, config, audio, retry, timeout, metadata)\u001b[0m\n\u001b[0;32m    254\u001b[0m         \u001b[0mrequest\u001b[0m \u001b[1;33m=\u001b[0m \u001b[0mcloud_speech_pb2\u001b[0m\u001b[1;33m.\u001b[0m\u001b[0mRecognizeRequest\u001b[0m\u001b[1;33m(\u001b[0m\u001b[0mconfig\u001b[0m\u001b[1;33m=\u001b[0m\u001b[0mconfig\u001b[0m\u001b[1;33m,\u001b[0m \u001b[0maudio\u001b[0m\u001b[1;33m=\u001b[0m\u001b[0maudio\u001b[0m\u001b[1;33m)\u001b[0m\u001b[1;33m\u001b[0m\u001b[1;33m\u001b[0m\u001b[0m\n\u001b[0;32m    255\u001b[0m         return self._inner_api_calls[\"recognize\"](\n\u001b[1;32m--> 256\u001b[1;33m             \u001b[0mrequest\u001b[0m\u001b[1;33m,\u001b[0m \u001b[0mretry\u001b[0m\u001b[1;33m=\u001b[0m\u001b[0mretry\u001b[0m\u001b[1;33m,\u001b[0m \u001b[0mtimeout\u001b[0m\u001b[1;33m=\u001b[0m\u001b[0mtimeout\u001b[0m\u001b[1;33m,\u001b[0m \u001b[0mmetadata\u001b[0m\u001b[1;33m=\u001b[0m\u001b[0mmetadata\u001b[0m\u001b[1;33m\u001b[0m\u001b[1;33m\u001b[0m\u001b[0m\n\u001b[0m\u001b[0;32m    257\u001b[0m         )\n\u001b[0;32m    258\u001b[0m \u001b[1;33m\u001b[0m\u001b[0m\n",
      "\u001b[1;32mC:\\ProgramData\\Anaconda3\\lib\\site-packages\\google\\api_core\\gapic_v1\\method.py\u001b[0m in \u001b[0;36m__call__\u001b[1;34m(self, *args, **kwargs)\u001b[0m\n\u001b[0;32m    141\u001b[0m             \u001b[0mkwargs\u001b[0m\u001b[1;33m[\u001b[0m\u001b[1;34m\"metadata\"\u001b[0m\u001b[1;33m]\u001b[0m \u001b[1;33m=\u001b[0m \u001b[0mmetadata\u001b[0m\u001b[1;33m\u001b[0m\u001b[1;33m\u001b[0m\u001b[0m\n\u001b[0;32m    142\u001b[0m \u001b[1;33m\u001b[0m\u001b[0m\n\u001b[1;32m--> 143\u001b[1;33m         \u001b[1;32mreturn\u001b[0m \u001b[0mwrapped_func\u001b[0m\u001b[1;33m(\u001b[0m\u001b[1;33m*\u001b[0m\u001b[0margs\u001b[0m\u001b[1;33m,\u001b[0m \u001b[1;33m**\u001b[0m\u001b[0mkwargs\u001b[0m\u001b[1;33m)\u001b[0m\u001b[1;33m\u001b[0m\u001b[1;33m\u001b[0m\u001b[0m\n\u001b[0m\u001b[0;32m    144\u001b[0m \u001b[1;33m\u001b[0m\u001b[0m\n\u001b[0;32m    145\u001b[0m \u001b[1;33m\u001b[0m\u001b[0m\n",
      "\u001b[1;32mC:\\ProgramData\\Anaconda3\\lib\\site-packages\\google\\api_core\\retry.py\u001b[0m in \u001b[0;36mretry_wrapped_func\u001b[1;34m(*args, **kwargs)\u001b[0m\n\u001b[0;32m    275\u001b[0m                 \u001b[0msleep_generator\u001b[0m\u001b[1;33m,\u001b[0m\u001b[1;33m\u001b[0m\u001b[1;33m\u001b[0m\u001b[0m\n\u001b[0;32m    276\u001b[0m                 \u001b[0mself\u001b[0m\u001b[1;33m.\u001b[0m\u001b[0m_deadline\u001b[0m\u001b[1;33m,\u001b[0m\u001b[1;33m\u001b[0m\u001b[1;33m\u001b[0m\u001b[0m\n\u001b[1;32m--> 277\u001b[1;33m                 \u001b[0mon_error\u001b[0m\u001b[1;33m=\u001b[0m\u001b[0mon_error\u001b[0m\u001b[1;33m,\u001b[0m\u001b[1;33m\u001b[0m\u001b[1;33m\u001b[0m\u001b[0m\n\u001b[0m\u001b[0;32m    278\u001b[0m             )\n\u001b[0;32m    279\u001b[0m \u001b[1;33m\u001b[0m\u001b[0m\n",
      "\u001b[1;32mC:\\ProgramData\\Anaconda3\\lib\\site-packages\\google\\api_core\\retry.py\u001b[0m in \u001b[0;36mretry_target\u001b[1;34m(target, predicate, sleep_generator, deadline, on_error)\u001b[0m\n\u001b[0;32m    180\u001b[0m     \u001b[1;32mfor\u001b[0m \u001b[0msleep\u001b[0m \u001b[1;32min\u001b[0m \u001b[0msleep_generator\u001b[0m\u001b[1;33m:\u001b[0m\u001b[1;33m\u001b[0m\u001b[1;33m\u001b[0m\u001b[0m\n\u001b[0;32m    181\u001b[0m         \u001b[1;32mtry\u001b[0m\u001b[1;33m:\u001b[0m\u001b[1;33m\u001b[0m\u001b[1;33m\u001b[0m\u001b[0m\n\u001b[1;32m--> 182\u001b[1;33m             \u001b[1;32mreturn\u001b[0m \u001b[0mtarget\u001b[0m\u001b[1;33m(\u001b[0m\u001b[1;33m)\u001b[0m\u001b[1;33m\u001b[0m\u001b[1;33m\u001b[0m\u001b[0m\n\u001b[0m\u001b[0;32m    183\u001b[0m \u001b[1;33m\u001b[0m\u001b[0m\n\u001b[0;32m    184\u001b[0m         \u001b[1;31m# pylint: disable=broad-except\u001b[0m\u001b[1;33m\u001b[0m\u001b[1;33m\u001b[0m\u001b[1;33m\u001b[0m\u001b[0m\n",
      "\u001b[1;32mC:\\ProgramData\\Anaconda3\\lib\\site-packages\\google\\api_core\\timeout.py\u001b[0m in \u001b[0;36mfunc_with_timeout\u001b[1;34m(*args, **kwargs)\u001b[0m\n\u001b[0;32m    212\u001b[0m             \u001b[1;34m\"\"\"Wrapped function that adds timeout.\"\"\"\u001b[0m\u001b[1;33m\u001b[0m\u001b[1;33m\u001b[0m\u001b[0m\n\u001b[0;32m    213\u001b[0m             \u001b[0mkwargs\u001b[0m\u001b[1;33m[\u001b[0m\u001b[1;34m\"timeout\"\u001b[0m\u001b[1;33m]\u001b[0m \u001b[1;33m=\u001b[0m \u001b[0mnext\u001b[0m\u001b[1;33m(\u001b[0m\u001b[0mtimeouts\u001b[0m\u001b[1;33m)\u001b[0m\u001b[1;33m\u001b[0m\u001b[1;33m\u001b[0m\u001b[0m\n\u001b[1;32m--> 214\u001b[1;33m             \u001b[1;32mreturn\u001b[0m \u001b[0mfunc\u001b[0m\u001b[1;33m(\u001b[0m\u001b[1;33m*\u001b[0m\u001b[0margs\u001b[0m\u001b[1;33m,\u001b[0m \u001b[1;33m**\u001b[0m\u001b[0mkwargs\u001b[0m\u001b[1;33m)\u001b[0m\u001b[1;33m\u001b[0m\u001b[1;33m\u001b[0m\u001b[0m\n\u001b[0m\u001b[0;32m    215\u001b[0m \u001b[1;33m\u001b[0m\u001b[0m\n\u001b[0;32m    216\u001b[0m         \u001b[1;32mreturn\u001b[0m \u001b[0mfunc_with_timeout\u001b[0m\u001b[1;33m\u001b[0m\u001b[1;33m\u001b[0m\u001b[0m\n",
      "\u001b[1;32mC:\\ProgramData\\Anaconda3\\lib\\site-packages\\google\\api_core\\grpc_helpers.py\u001b[0m in \u001b[0;36merror_remapped_callable\u001b[1;34m(*args, **kwargs)\u001b[0m\n\u001b[0;32m     57\u001b[0m             \u001b[1;32mreturn\u001b[0m \u001b[0mcallable_\u001b[0m\u001b[1;33m(\u001b[0m\u001b[1;33m*\u001b[0m\u001b[0margs\u001b[0m\u001b[1;33m,\u001b[0m \u001b[1;33m**\u001b[0m\u001b[0mkwargs\u001b[0m\u001b[1;33m)\u001b[0m\u001b[1;33m\u001b[0m\u001b[1;33m\u001b[0m\u001b[0m\n\u001b[0;32m     58\u001b[0m         \u001b[1;32mexcept\u001b[0m \u001b[0mgrpc\u001b[0m\u001b[1;33m.\u001b[0m\u001b[0mRpcError\u001b[0m \u001b[1;32mas\u001b[0m \u001b[0mexc\u001b[0m\u001b[1;33m:\u001b[0m\u001b[1;33m\u001b[0m\u001b[1;33m\u001b[0m\u001b[0m\n\u001b[1;32m---> 59\u001b[1;33m             \u001b[0msix\u001b[0m\u001b[1;33m.\u001b[0m\u001b[0mraise_from\u001b[0m\u001b[1;33m(\u001b[0m\u001b[0mexceptions\u001b[0m\u001b[1;33m.\u001b[0m\u001b[0mfrom_grpc_error\u001b[0m\u001b[1;33m(\u001b[0m\u001b[0mexc\u001b[0m\u001b[1;33m)\u001b[0m\u001b[1;33m,\u001b[0m \u001b[0mexc\u001b[0m\u001b[1;33m)\u001b[0m\u001b[1;33m\u001b[0m\u001b[1;33m\u001b[0m\u001b[0m\n\u001b[0m\u001b[0;32m     60\u001b[0m \u001b[1;33m\u001b[0m\u001b[0m\n\u001b[0;32m     61\u001b[0m     \u001b[1;32mreturn\u001b[0m \u001b[0merror_remapped_callable\u001b[0m\u001b[1;33m\u001b[0m\u001b[1;33m\u001b[0m\u001b[0m\n",
      "\u001b[1;32mC:\\ProgramData\\Anaconda3\\lib\\site-packages\\six.py\u001b[0m in \u001b[0;36mraise_from\u001b[1;34m(value, from_value)\u001b[0m\n",
      "\u001b[1;31mUnknown\u001b[0m: None Stream removed"
     ]
    }
   ],
   "source": [
    "wer_list2=[]\n",
    "for i in range(903,len(test_txt_files),1):\n",
    "    real_sen=\" \".join(open(test_txt_files[i]).read().split(\" \")[2:])\n",
    "    pred_sen = google_recognize(test_wav_files[i],key)\n",
    "    wer_res = wer(pred_sen,real_sen)\n",
    "    wer_list2.append(wer_res)\n",
    "    if(i%50)==0:\n",
    "        print(\"At \",i,\"WER is : \",wer_res)"
   ]
  },
  {
   "cell_type": "code",
   "execution_count": 137,
   "metadata": {},
   "outputs": [
    {
     "name": "stdout",
     "output_type": "stream",
     "text": [
      "1143\n"
     ]
    }
   ],
   "source": [
    "print(902+len(wer_list2))"
   ]
  },
  {
   "cell_type": "code",
   "execution_count": 119,
   "metadata": {},
   "outputs": [
    {
     "name": "stdout",
     "output_type": "stream",
     "text": [
      "At  1150 WER is :  0.36363636363636365\n",
      "At  1200 WER is :  0.09090909090909091\n",
      "At  1250 WER is :  0.09090909090909091\n",
      "At  1300 WER is :  0.09090909090909091\n",
      "At  1350 WER is :  0.09090909090909091\n",
      "At  1400 WER is :  0.09090909090909091\n",
      "At  1450 WER is :  0.18181818181818182\n",
      "At  1500 WER is :  0.09090909090909091\n"
     ]
    },
    {
     "ename": "Unknown",
     "evalue": "None Stream removed",
     "output_type": "error",
     "traceback": [
      "\u001b[1;31m---------------------------------------------------------------------------\u001b[0m",
      "\u001b[1;31m_Rendezvous\u001b[0m                               Traceback (most recent call last)",
      "\u001b[1;32mC:\\ProgramData\\Anaconda3\\lib\\site-packages\\google\\api_core\\grpc_helpers.py\u001b[0m in \u001b[0;36merror_remapped_callable\u001b[1;34m(*args, **kwargs)\u001b[0m\n\u001b[0;32m     56\u001b[0m         \u001b[1;32mtry\u001b[0m\u001b[1;33m:\u001b[0m\u001b[1;33m\u001b[0m\u001b[1;33m\u001b[0m\u001b[0m\n\u001b[1;32m---> 57\u001b[1;33m             \u001b[1;32mreturn\u001b[0m \u001b[0mcallable_\u001b[0m\u001b[1;33m(\u001b[0m\u001b[1;33m*\u001b[0m\u001b[0margs\u001b[0m\u001b[1;33m,\u001b[0m \u001b[1;33m**\u001b[0m\u001b[0mkwargs\u001b[0m\u001b[1;33m)\u001b[0m\u001b[1;33m\u001b[0m\u001b[1;33m\u001b[0m\u001b[0m\n\u001b[0m\u001b[0;32m     58\u001b[0m         \u001b[1;32mexcept\u001b[0m \u001b[0mgrpc\u001b[0m\u001b[1;33m.\u001b[0m\u001b[0mRpcError\u001b[0m \u001b[1;32mas\u001b[0m \u001b[0mexc\u001b[0m\u001b[1;33m:\u001b[0m\u001b[1;33m\u001b[0m\u001b[1;33m\u001b[0m\u001b[0m\n",
      "\u001b[1;32mC:\\ProgramData\\Anaconda3\\lib\\site-packages\\grpc\\_channel.py\u001b[0m in \u001b[0;36m__call__\u001b[1;34m(self, request, timeout, metadata, credentials, wait_for_ready, compression)\u001b[0m\n\u001b[0;32m    689\u001b[0m                                       wait_for_ready, compression)\n\u001b[1;32m--> 690\u001b[1;33m         \u001b[1;32mreturn\u001b[0m \u001b[0m_end_unary_response_blocking\u001b[0m\u001b[1;33m(\u001b[0m\u001b[0mstate\u001b[0m\u001b[1;33m,\u001b[0m \u001b[0mcall\u001b[0m\u001b[1;33m,\u001b[0m \u001b[1;32mFalse\u001b[0m\u001b[1;33m,\u001b[0m \u001b[1;32mNone\u001b[0m\u001b[1;33m)\u001b[0m\u001b[1;33m\u001b[0m\u001b[1;33m\u001b[0m\u001b[0m\n\u001b[0m\u001b[0;32m    691\u001b[0m \u001b[1;33m\u001b[0m\u001b[0m\n",
      "\u001b[1;32mC:\\ProgramData\\Anaconda3\\lib\\site-packages\\grpc\\_channel.py\u001b[0m in \u001b[0;36m_end_unary_response_blocking\u001b[1;34m(state, call, with_call, deadline)\u001b[0m\n\u001b[0;32m    591\u001b[0m     \u001b[1;32melse\u001b[0m\u001b[1;33m:\u001b[0m\u001b[1;33m\u001b[0m\u001b[1;33m\u001b[0m\u001b[0m\n\u001b[1;32m--> 592\u001b[1;33m         \u001b[1;32mraise\u001b[0m \u001b[0m_Rendezvous\u001b[0m\u001b[1;33m(\u001b[0m\u001b[0mstate\u001b[0m\u001b[1;33m,\u001b[0m \u001b[1;32mNone\u001b[0m\u001b[1;33m,\u001b[0m \u001b[1;32mNone\u001b[0m\u001b[1;33m,\u001b[0m \u001b[0mdeadline\u001b[0m\u001b[1;33m)\u001b[0m\u001b[1;33m\u001b[0m\u001b[1;33m\u001b[0m\u001b[0m\n\u001b[0m\u001b[0;32m    593\u001b[0m \u001b[1;33m\u001b[0m\u001b[0m\n",
      "\u001b[1;31m_Rendezvous\u001b[0m: <_Rendezvous of RPC that terminated with:\n\tstatus = StatusCode.UNKNOWN\n\tdetails = \"Stream removed\"\n\tdebug_error_string = \"{\"created\":\"@1574392076.801000000\",\"description\":\"Error received from peer ipv6:[2607:f8b0:4009:803::200a]:443\",\"file\":\"src/core/lib/surface/call.cc\",\"file_line\":1055,\"grpc_message\":\"Stream removed\",\"grpc_status\":2}\"\n>",
      "\nThe above exception was the direct cause of the following exception:\n",
      "\u001b[1;31mUnknown\u001b[0m                                   Traceback (most recent call last)",
      "\u001b[1;32m<ipython-input-119-47bd6f67a271>\u001b[0m in \u001b[0;36m<module>\u001b[1;34m\u001b[0m\n\u001b[0;32m      2\u001b[0m \u001b[1;32mfor\u001b[0m \u001b[0mi\u001b[0m \u001b[1;32min\u001b[0m \u001b[0mrange\u001b[0m\u001b[1;33m(\u001b[0m\u001b[1;36m1143\u001b[0m\u001b[1;33m,\u001b[0m\u001b[0mlen\u001b[0m\u001b[1;33m(\u001b[0m\u001b[0mtest_txt_files\u001b[0m\u001b[1;33m)\u001b[0m\u001b[1;33m,\u001b[0m\u001b[1;36m1\u001b[0m\u001b[1;33m)\u001b[0m\u001b[1;33m:\u001b[0m\u001b[1;33m\u001b[0m\u001b[1;33m\u001b[0m\u001b[0m\n\u001b[0;32m      3\u001b[0m     \u001b[0mreal_sen\u001b[0m\u001b[1;33m=\u001b[0m\u001b[1;34m\" \"\u001b[0m\u001b[1;33m.\u001b[0m\u001b[0mjoin\u001b[0m\u001b[1;33m(\u001b[0m\u001b[0mopen\u001b[0m\u001b[1;33m(\u001b[0m\u001b[0mtest_txt_files\u001b[0m\u001b[1;33m[\u001b[0m\u001b[0mi\u001b[0m\u001b[1;33m]\u001b[0m\u001b[1;33m)\u001b[0m\u001b[1;33m.\u001b[0m\u001b[0mread\u001b[0m\u001b[1;33m(\u001b[0m\u001b[1;33m)\u001b[0m\u001b[1;33m.\u001b[0m\u001b[0msplit\u001b[0m\u001b[1;33m(\u001b[0m\u001b[1;34m\" \"\u001b[0m\u001b[1;33m)\u001b[0m\u001b[1;33m[\u001b[0m\u001b[1;36m2\u001b[0m\u001b[1;33m:\u001b[0m\u001b[1;33m]\u001b[0m\u001b[1;33m)\u001b[0m\u001b[1;33m\u001b[0m\u001b[1;33m\u001b[0m\u001b[0m\n\u001b[1;32m----> 4\u001b[1;33m     \u001b[0mpred_sen\u001b[0m \u001b[1;33m=\u001b[0m \u001b[0mgoogle_recognize\u001b[0m\u001b[1;33m(\u001b[0m\u001b[0mtest_wav_files\u001b[0m\u001b[1;33m[\u001b[0m\u001b[0mi\u001b[0m\u001b[1;33m]\u001b[0m\u001b[1;33m,\u001b[0m\u001b[0mkey\u001b[0m\u001b[1;33m)\u001b[0m\u001b[1;33m\u001b[0m\u001b[1;33m\u001b[0m\u001b[0m\n\u001b[0m\u001b[0;32m      5\u001b[0m     \u001b[0mwer_res\u001b[0m \u001b[1;33m=\u001b[0m \u001b[0mwer\u001b[0m\u001b[1;33m(\u001b[0m\u001b[0mpred_sen\u001b[0m\u001b[1;33m,\u001b[0m\u001b[0mreal_sen\u001b[0m\u001b[1;33m)\u001b[0m\u001b[1;33m\u001b[0m\u001b[1;33m\u001b[0m\u001b[0m\n\u001b[0;32m      6\u001b[0m     \u001b[0mwer_list3\u001b[0m\u001b[1;33m.\u001b[0m\u001b[0mappend\u001b[0m\u001b[1;33m(\u001b[0m\u001b[0mwer_res\u001b[0m\u001b[1;33m)\u001b[0m\u001b[1;33m\u001b[0m\u001b[1;33m\u001b[0m\u001b[0m\n",
      "\u001b[1;32m<ipython-input-90-0e8c9669ffb0>\u001b[0m in \u001b[0;36mgoogle_recognize\u001b[1;34m(audio_name, auth_key)\u001b[0m\n\u001b[0;32m     34\u001b[0m \u001b[1;33m\u001b[0m\u001b[0m\n\u001b[0;32m     35\u001b[0m     \u001b[1;31m# Detects speech in the audio file\u001b[0m\u001b[1;33m\u001b[0m\u001b[1;33m\u001b[0m\u001b[1;33m\u001b[0m\u001b[0m\n\u001b[1;32m---> 36\u001b[1;33m     \u001b[0mresponse\u001b[0m \u001b[1;33m=\u001b[0m \u001b[0mclient\u001b[0m\u001b[1;33m.\u001b[0m\u001b[0mrecognize\u001b[0m\u001b[1;33m(\u001b[0m\u001b[0mconfig\u001b[0m\u001b[1;33m,\u001b[0m \u001b[0maudio\u001b[0m\u001b[1;33m)\u001b[0m\u001b[1;33m\u001b[0m\u001b[1;33m\u001b[0m\u001b[0m\n\u001b[0m\u001b[0;32m     37\u001b[0m     \u001b[1;32mfor\u001b[0m \u001b[0mresult\u001b[0m \u001b[1;32min\u001b[0m \u001b[0mresponse\u001b[0m\u001b[1;33m.\u001b[0m\u001b[0mresults\u001b[0m\u001b[1;33m:\u001b[0m\u001b[1;33m\u001b[0m\u001b[1;33m\u001b[0m\u001b[0m\n\u001b[0;32m     38\u001b[0m \u001b[1;31m#         print(result)\u001b[0m\u001b[1;33m\u001b[0m\u001b[1;33m\u001b[0m\u001b[1;33m\u001b[0m\u001b[0m\n",
      "\u001b[1;32mC:\\ProgramData\\Anaconda3\\lib\\site-packages\\google\\cloud\\speech_v1\\gapic\\speech_client.py\u001b[0m in \u001b[0;36mrecognize\u001b[1;34m(self, config, audio, retry, timeout, metadata)\u001b[0m\n\u001b[0;32m    254\u001b[0m         \u001b[0mrequest\u001b[0m \u001b[1;33m=\u001b[0m \u001b[0mcloud_speech_pb2\u001b[0m\u001b[1;33m.\u001b[0m\u001b[0mRecognizeRequest\u001b[0m\u001b[1;33m(\u001b[0m\u001b[0mconfig\u001b[0m\u001b[1;33m=\u001b[0m\u001b[0mconfig\u001b[0m\u001b[1;33m,\u001b[0m \u001b[0maudio\u001b[0m\u001b[1;33m=\u001b[0m\u001b[0maudio\u001b[0m\u001b[1;33m)\u001b[0m\u001b[1;33m\u001b[0m\u001b[1;33m\u001b[0m\u001b[0m\n\u001b[0;32m    255\u001b[0m         return self._inner_api_calls[\"recognize\"](\n\u001b[1;32m--> 256\u001b[1;33m             \u001b[0mrequest\u001b[0m\u001b[1;33m,\u001b[0m \u001b[0mretry\u001b[0m\u001b[1;33m=\u001b[0m\u001b[0mretry\u001b[0m\u001b[1;33m,\u001b[0m \u001b[0mtimeout\u001b[0m\u001b[1;33m=\u001b[0m\u001b[0mtimeout\u001b[0m\u001b[1;33m,\u001b[0m \u001b[0mmetadata\u001b[0m\u001b[1;33m=\u001b[0m\u001b[0mmetadata\u001b[0m\u001b[1;33m\u001b[0m\u001b[1;33m\u001b[0m\u001b[0m\n\u001b[0m\u001b[0;32m    257\u001b[0m         )\n\u001b[0;32m    258\u001b[0m \u001b[1;33m\u001b[0m\u001b[0m\n",
      "\u001b[1;32mC:\\ProgramData\\Anaconda3\\lib\\site-packages\\google\\api_core\\gapic_v1\\method.py\u001b[0m in \u001b[0;36m__call__\u001b[1;34m(self, *args, **kwargs)\u001b[0m\n\u001b[0;32m    141\u001b[0m             \u001b[0mkwargs\u001b[0m\u001b[1;33m[\u001b[0m\u001b[1;34m\"metadata\"\u001b[0m\u001b[1;33m]\u001b[0m \u001b[1;33m=\u001b[0m \u001b[0mmetadata\u001b[0m\u001b[1;33m\u001b[0m\u001b[1;33m\u001b[0m\u001b[0m\n\u001b[0;32m    142\u001b[0m \u001b[1;33m\u001b[0m\u001b[0m\n\u001b[1;32m--> 143\u001b[1;33m         \u001b[1;32mreturn\u001b[0m \u001b[0mwrapped_func\u001b[0m\u001b[1;33m(\u001b[0m\u001b[1;33m*\u001b[0m\u001b[0margs\u001b[0m\u001b[1;33m,\u001b[0m \u001b[1;33m**\u001b[0m\u001b[0mkwargs\u001b[0m\u001b[1;33m)\u001b[0m\u001b[1;33m\u001b[0m\u001b[1;33m\u001b[0m\u001b[0m\n\u001b[0m\u001b[0;32m    144\u001b[0m \u001b[1;33m\u001b[0m\u001b[0m\n\u001b[0;32m    145\u001b[0m \u001b[1;33m\u001b[0m\u001b[0m\n",
      "\u001b[1;32mC:\\ProgramData\\Anaconda3\\lib\\site-packages\\google\\api_core\\retry.py\u001b[0m in \u001b[0;36mretry_wrapped_func\u001b[1;34m(*args, **kwargs)\u001b[0m\n\u001b[0;32m    275\u001b[0m                 \u001b[0msleep_generator\u001b[0m\u001b[1;33m,\u001b[0m\u001b[1;33m\u001b[0m\u001b[1;33m\u001b[0m\u001b[0m\n\u001b[0;32m    276\u001b[0m                 \u001b[0mself\u001b[0m\u001b[1;33m.\u001b[0m\u001b[0m_deadline\u001b[0m\u001b[1;33m,\u001b[0m\u001b[1;33m\u001b[0m\u001b[1;33m\u001b[0m\u001b[0m\n\u001b[1;32m--> 277\u001b[1;33m                 \u001b[0mon_error\u001b[0m\u001b[1;33m=\u001b[0m\u001b[0mon_error\u001b[0m\u001b[1;33m,\u001b[0m\u001b[1;33m\u001b[0m\u001b[1;33m\u001b[0m\u001b[0m\n\u001b[0m\u001b[0;32m    278\u001b[0m             )\n\u001b[0;32m    279\u001b[0m \u001b[1;33m\u001b[0m\u001b[0m\n",
      "\u001b[1;32mC:\\ProgramData\\Anaconda3\\lib\\site-packages\\google\\api_core\\retry.py\u001b[0m in \u001b[0;36mretry_target\u001b[1;34m(target, predicate, sleep_generator, deadline, on_error)\u001b[0m\n\u001b[0;32m    180\u001b[0m     \u001b[1;32mfor\u001b[0m \u001b[0msleep\u001b[0m \u001b[1;32min\u001b[0m \u001b[0msleep_generator\u001b[0m\u001b[1;33m:\u001b[0m\u001b[1;33m\u001b[0m\u001b[1;33m\u001b[0m\u001b[0m\n\u001b[0;32m    181\u001b[0m         \u001b[1;32mtry\u001b[0m\u001b[1;33m:\u001b[0m\u001b[1;33m\u001b[0m\u001b[1;33m\u001b[0m\u001b[0m\n\u001b[1;32m--> 182\u001b[1;33m             \u001b[1;32mreturn\u001b[0m \u001b[0mtarget\u001b[0m\u001b[1;33m(\u001b[0m\u001b[1;33m)\u001b[0m\u001b[1;33m\u001b[0m\u001b[1;33m\u001b[0m\u001b[0m\n\u001b[0m\u001b[0;32m    183\u001b[0m \u001b[1;33m\u001b[0m\u001b[0m\n\u001b[0;32m    184\u001b[0m         \u001b[1;31m# pylint: disable=broad-except\u001b[0m\u001b[1;33m\u001b[0m\u001b[1;33m\u001b[0m\u001b[1;33m\u001b[0m\u001b[0m\n",
      "\u001b[1;32mC:\\ProgramData\\Anaconda3\\lib\\site-packages\\google\\api_core\\timeout.py\u001b[0m in \u001b[0;36mfunc_with_timeout\u001b[1;34m(*args, **kwargs)\u001b[0m\n\u001b[0;32m    212\u001b[0m             \u001b[1;34m\"\"\"Wrapped function that adds timeout.\"\"\"\u001b[0m\u001b[1;33m\u001b[0m\u001b[1;33m\u001b[0m\u001b[0m\n\u001b[0;32m    213\u001b[0m             \u001b[0mkwargs\u001b[0m\u001b[1;33m[\u001b[0m\u001b[1;34m\"timeout\"\u001b[0m\u001b[1;33m]\u001b[0m \u001b[1;33m=\u001b[0m \u001b[0mnext\u001b[0m\u001b[1;33m(\u001b[0m\u001b[0mtimeouts\u001b[0m\u001b[1;33m)\u001b[0m\u001b[1;33m\u001b[0m\u001b[1;33m\u001b[0m\u001b[0m\n\u001b[1;32m--> 214\u001b[1;33m             \u001b[1;32mreturn\u001b[0m \u001b[0mfunc\u001b[0m\u001b[1;33m(\u001b[0m\u001b[1;33m*\u001b[0m\u001b[0margs\u001b[0m\u001b[1;33m,\u001b[0m \u001b[1;33m**\u001b[0m\u001b[0mkwargs\u001b[0m\u001b[1;33m)\u001b[0m\u001b[1;33m\u001b[0m\u001b[1;33m\u001b[0m\u001b[0m\n\u001b[0m\u001b[0;32m    215\u001b[0m \u001b[1;33m\u001b[0m\u001b[0m\n\u001b[0;32m    216\u001b[0m         \u001b[1;32mreturn\u001b[0m \u001b[0mfunc_with_timeout\u001b[0m\u001b[1;33m\u001b[0m\u001b[1;33m\u001b[0m\u001b[0m\n",
      "\u001b[1;32mC:\\ProgramData\\Anaconda3\\lib\\site-packages\\google\\api_core\\grpc_helpers.py\u001b[0m in \u001b[0;36merror_remapped_callable\u001b[1;34m(*args, **kwargs)\u001b[0m\n\u001b[0;32m     57\u001b[0m             \u001b[1;32mreturn\u001b[0m \u001b[0mcallable_\u001b[0m\u001b[1;33m(\u001b[0m\u001b[1;33m*\u001b[0m\u001b[0margs\u001b[0m\u001b[1;33m,\u001b[0m \u001b[1;33m**\u001b[0m\u001b[0mkwargs\u001b[0m\u001b[1;33m)\u001b[0m\u001b[1;33m\u001b[0m\u001b[1;33m\u001b[0m\u001b[0m\n\u001b[0;32m     58\u001b[0m         \u001b[1;32mexcept\u001b[0m \u001b[0mgrpc\u001b[0m\u001b[1;33m.\u001b[0m\u001b[0mRpcError\u001b[0m \u001b[1;32mas\u001b[0m \u001b[0mexc\u001b[0m\u001b[1;33m:\u001b[0m\u001b[1;33m\u001b[0m\u001b[1;33m\u001b[0m\u001b[0m\n\u001b[1;32m---> 59\u001b[1;33m             \u001b[0msix\u001b[0m\u001b[1;33m.\u001b[0m\u001b[0mraise_from\u001b[0m\u001b[1;33m(\u001b[0m\u001b[0mexceptions\u001b[0m\u001b[1;33m.\u001b[0m\u001b[0mfrom_grpc_error\u001b[0m\u001b[1;33m(\u001b[0m\u001b[0mexc\u001b[0m\u001b[1;33m)\u001b[0m\u001b[1;33m,\u001b[0m \u001b[0mexc\u001b[0m\u001b[1;33m)\u001b[0m\u001b[1;33m\u001b[0m\u001b[1;33m\u001b[0m\u001b[0m\n\u001b[0m\u001b[0;32m     60\u001b[0m \u001b[1;33m\u001b[0m\u001b[0m\n\u001b[0;32m     61\u001b[0m     \u001b[1;32mreturn\u001b[0m \u001b[0merror_remapped_callable\u001b[0m\u001b[1;33m\u001b[0m\u001b[1;33m\u001b[0m\u001b[0m\n",
      "\u001b[1;32mC:\\ProgramData\\Anaconda3\\lib\\site-packages\\six.py\u001b[0m in \u001b[0;36mraise_from\u001b[1;34m(value, from_value)\u001b[0m\n",
      "\u001b[1;31mUnknown\u001b[0m: None Stream removed"
     ]
    }
   ],
   "source": [
    "wer_list3=[]\n",
    "for i in range(1143,len(test_txt_files),1):\n",
    "    real_sen=\" \".join(open(test_txt_files[i]).read().split(\" \")[2:])\n",
    "    pred_sen = google_recognize(test_wav_files[i],key)\n",
    "    wer_res = wer(pred_sen,real_sen)\n",
    "    wer_list3.append(wer_res)\n",
    "    if(i%50)==0:\n",
    "        print(\"At \",i,\"WER is : \",wer_res)"
   ]
  },
  {
   "cell_type": "code",
   "execution_count": 133,
   "metadata": {},
   "outputs": [
    {
     "name": "stdout",
     "output_type": "stream",
     "text": [
      "1523\n"
     ]
    }
   ],
   "source": [
    "print(1143+len(wer_list3))"
   ]
  },
  {
   "cell_type": "code",
   "execution_count": 121,
   "metadata": {},
   "outputs": [
    {
     "name": "stdout",
     "output_type": "stream",
     "text": [
      "At  1550 WER is :  0.09090909090909091\n",
      "At  1600 WER is :  0.09090909090909091\n",
      "At  1650 WER is :  0.09090909090909091\n"
     ]
    }
   ],
   "source": [
    "wer_list4=[]\n",
    "for i in range(1523,len(test_txt_files),1):\n",
    "    real_sen=\" \".join(open(test_txt_files[i]).read().split(\" \")[2:])\n",
    "    pred_sen = google_recognize(test_wav_files[i],key)\n",
    "    wer_res = wer(pred_sen,real_sen)\n",
    "    wer_list4.append(wer_res)\n",
    "    if(i%50)==0:\n",
    "        print(\"At \",i,\"WER is : \",wer_res)"
   ]
  },
  {
   "cell_type": "code",
   "execution_count": 126,
   "metadata": {},
   "outputs": [],
   "source": [
    "wer_list_5=wer_list+wer_list2+wer_list3+wer_list4"
   ]
  },
  {
   "cell_type": "code",
   "execution_count": 127,
   "metadata": {},
   "outputs": [
    {
     "data": {
      "text/plain": [
       "1680"
      ]
     },
     "execution_count": 127,
     "metadata": {},
     "output_type": "execute_result"
    }
   ],
   "source": [
    "len(wer_list_5)"
   ]
  },
  {
   "cell_type": "code",
   "execution_count": 128,
   "metadata": {},
   "outputs": [],
   "source": [
    "with open('wer_original_list.txt', 'w') as file:\n",
    "    for item in wer_list_5:\n",
    "        file.write(\"%s \" % item)"
   ]
  },
  {
   "cell_type": "markdown",
   "metadata": {},
   "source": [
    "## Mean and Standard Deviation of WER (Original Data):"
   ]
  },
  {
   "cell_type": "code",
   "execution_count": 130,
   "metadata": {},
   "outputs": [
    {
     "name": "stdout",
     "output_type": "stream",
     "text": [
      "Mean WER is :  0.23212161278704016\n",
      "Std of WER is :  0.1568868017027177\n"
     ]
    }
   ],
   "source": [
    "import numpy as np\n",
    "print(\"Mean WER is : \",np.mean(wer_list_5))\n",
    "print(\"Std of WER is : \",np.std(wer_list_5))"
   ]
  },
  {
   "cell_type": "code",
   "execution_count": null,
   "metadata": {},
   "outputs": [],
   "source": [
    "os.listdir(\"PREPARED_DATASET/\")[:5]"
   ]
  },
  {
   "cell_type": "markdown",
   "metadata": {},
   "source": [
    "## test_wav_files_0, test_wav_files_1, test_wav_files_2, test_wav_files_3 are test wave files that we have prepared at -5,0,10,25 db SNR levels."
   ]
  },
  {
   "cell_type": "code",
   "execution_count": 141,
   "metadata": {},
   "outputs": [],
   "source": [
    "test_wav_files_0=[]\n",
    "for root, dirs, files in os.walk(\"PREPARED_DATASET/\"):\n",
    "    for file in files:\n",
    "        if file.endswith(\"_0.wav\"):\n",
    "             test_wav_files_0.append(os.path.join(root, file))\n",
    "                \n",
    "test_wav_files_1=[]\n",
    "for root, dirs, files in os.walk(\"PREPARED_DATASET/\"):\n",
    "    for file in files:\n",
    "        if file.endswith(\"_1.wav\"):\n",
    "             test_wav_files_1.append(os.path.join(root, file))\n",
    "                \n",
    "test_wav_files_2=[]\n",
    "for root, dirs, files in os.walk(\"PREPARED_DATASET/\"):\n",
    "    for file in files:\n",
    "        if file.endswith(\"_2.wav\"):\n",
    "             test_wav_files_2.append(os.path.join(root, file))\n",
    "                \n",
    "test_wav_files_3=[]\n",
    "for root, dirs, files in os.walk(\"PREPARED_DATASET/\"):\n",
    "    for file in files:\n",
    "        if file.endswith(\"_3.wav\"):\n",
    "             test_wav_files_3.append(os.path.join(root, file))"
   ]
  },
  {
   "cell_type": "code",
   "execution_count": 162,
   "metadata": {},
   "outputs": [
    {
     "data": {
      "text/plain": [
       "'TIMIT_full\\\\TIMIT_full\\\\test\\\\dr1\\\\faks0\\\\sa1.txt'"
      ]
     },
     "execution_count": 162,
     "metadata": {},
     "output_type": "execute_result"
    }
   ],
   "source": [
    "'TIMIT_full\\\\TIMIT_full\\\\test\\\\'+'\\\\'.join(test_wav_files_0[0].split('/')[1].split('__')[:2])+'\\\\'+test_wav_files_0[0].split('/')[1].split('__')[2].split('_')[0]+'.txt'"
   ]
  },
  {
   "cell_type": "code",
   "execution_count": 164,
   "metadata": {},
   "outputs": [
    {
     "data": {
      "text/plain": [
       "'TIMIT_full\\\\TIMIT_full\\\\test/dr1\\\\faks0\\\\sa1.txt'"
      ]
     },
     "execution_count": 164,
     "metadata": {},
     "output_type": "execute_result"
    }
   ],
   "source": [
    "test_txt_files[0]"
   ]
  },
  {
   "cell_type": "code",
   "execution_count": 175,
   "metadata": {},
   "outputs": [
    {
     "name": "stdout",
     "output_type": "stream",
     "text": [
      "At file  0 WER is :  0.45454545454545453\n",
      "At file  25 WER is :  2.4\n",
      "At file  50 WER is :  0.36363636363636365\n",
      "At file  75 WER is :  0.8571428571428571\n",
      "At file  100 WER is :  0.45454545454545453\n",
      "At file  125 WER is :  0.8571428571428571\n",
      "At file  150 WER is :  0.45454545454545453\n",
      "At file  175 WER is :  1.5\n",
      "At file  200 WER is :  0.6363636363636364\n",
      "At file  225 WER is :  1.4285714285714286\n",
      "At file  250 WER is :  0.5454545454545454\n",
      "At file  275 WER is :  1.3333333333333333\n",
      "At file  300 WER is :  0.45454545454545453\n",
      "At file  325 WER is :  1.1428571428571428\n",
      "At file  350 WER is :  0.45454545454545453\n",
      "At file  375 WER is :  1.0\n",
      "At file  400 WER is :  0.45454545454545453\n",
      "At file  425 WER is :  1.0\n",
      "At file  450 WER is :  0.5454545454545454\n",
      "At file  475 WER is :  1.375\n",
      "At file  500 WER is :  0.36363636363636365\n",
      "At file  525 WER is :  0.875\n",
      "At file  550 WER is :  0.9090909090909091\n",
      "At file  575 WER is :  1.0\n",
      "At file  600 WER is :  0.2727272727272727\n",
      "At file  625 WER is :  1.0\n",
      "At file  650 WER is :  0.6363636363636364\n",
      "At file  675 WER is :  1.8571428571428572\n",
      "At file  700 WER is :  0.7272727272727273\n",
      "At file  725 WER is :  0.9\n",
      "At file  750 WER is :  0.5454545454545454\n",
      "At file  775 WER is :  1.8333333333333333\n",
      "At file  800 WER is :  0.36363636363636365\n",
      "At file  825 WER is :  1.0\n",
      "At file  850 WER is :  0.2727272727272727\n",
      "At file  875 WER is :  1.0\n",
      "At file  900 WER is :  0.36363636363636365\n",
      "At file  925 WER is :  1.2857142857142858\n",
      "At file  950 WER is :  0.9090909090909091\n",
      "At file  975 WER is :  1.125\n",
      "At file  1000 WER is :  0.36363636363636365\n",
      "At file  1025 WER is :  1.0\n",
      "At file  1050 WER is :  0.6363636363636364\n",
      "At file  1075 WER is :  1.0\n",
      "At file  1100 WER is :  0.5454545454545454\n",
      "At file  1125 WER is :  1.0\n",
      "At file  1150 WER is :  0.9090909090909091\n",
      "At file  1175 WER is :  0.8571428571428571\n",
      "At file  1200 WER is :  0.36363636363636365\n",
      "At file  1225 WER is :  1.6666666666666667\n",
      "At file  1250 WER is :  0.18181818181818182\n",
      "At file  1275 WER is :  1.4285714285714286\n",
      "At file  1300 WER is :  0.45454545454545453\n",
      "At file  1325 WER is :  1.1428571428571428\n",
      "At file  1350 WER is :  0.36363636363636365\n",
      "At file  1375 WER is :  1.375\n",
      "At file  1400 WER is :  0.9090909090909091\n",
      "At file  1425 WER is :  1.0\n",
      "At file  1450 WER is :  0.45454545454545453\n",
      "At file  1475 WER is :  1.6666666666666667\n",
      "At file  1500 WER is :  0.45454545454545453\n",
      "At file  1525 WER is :  0.875\n",
      "At file  1550 WER is :  0.6363636363636364\n",
      "At file  1575 WER is :  1.375\n",
      "At file  1600 WER is :  0.36363636363636365\n",
      "At file  1625 WER is :  1.0\n",
      "At file  1650 WER is :  0.36363636363636365\n",
      "At file  1675 WER is :  1.125\n"
     ]
    }
   ],
   "source": [
    "wer_list_0=[]\n",
    "for i in range(0,len(test_wav_files_0),1):\n",
    "    fname='TIMIT_full\\\\TIMIT_full\\\\test\\\\'+'\\\\'.join(test_wav_files_0[i].split('/')[1].split('__')[:2])+'\\\\'+test_wav_files_0[i].split('/')[1].split('__')[2].split('_')[0]+'.txt'\n",
    "    real_sen=\" \".join(open(fname).read().split(\" \")[2:])\n",
    "    pred_sen = google_recognize(test_wav_files_0[i],key)\n",
    "    if(pred_sen==None):\n",
    "        pred_sen=''\n",
    "    wer_res = wer(pred_sen,real_sen)\n",
    "    wer_list_0.append(wer_res)\n",
    "    if(i%25)==0:\n",
    "        print(\"At file \",i,\"WER is : \",wer_res)"
   ]
  },
  {
   "cell_type": "markdown",
   "metadata": {},
   "source": [
    "## Mean and Standard Deviation of WER for -5 db SNR: "
   ]
  },
  {
   "cell_type": "code",
   "execution_count": 177,
   "metadata": {},
   "outputs": [
    {
     "name": "stdout",
     "output_type": "stream",
     "text": [
      "1680\n",
      "Mean of WER for -5 db SNR is :  1.0951416702559034\n",
      "Std of WER for -5 db SNR is :  0.3561457854024702\n"
     ]
    }
   ],
   "source": [
    "print(len(wer_list_0))\n",
    "print(\"Mean of WER for -5 db SNR is : \",np.mean(wer_list_0))\n",
    "print(\"Std of WER for -5 db SNR is : \",np.std(wer_list_0))"
   ]
  },
  {
   "cell_type": "code",
   "execution_count": 181,
   "metadata": {},
   "outputs": [
    {
     "name": "stdout",
     "output_type": "stream",
     "text": [
      "At file  0 WER is :  0.8181818181818182\n",
      "At file  25 WER is :  1.0\n",
      "At file  50 WER is :  0.2727272727272727\n",
      "At file  75 WER is :  1.0\n",
      "At file  100 WER is :  0.6363636363636364\n",
      "At file  125 WER is :  1.2857142857142858\n",
      "At file  150 WER is :  0.36363636363636365\n",
      "At file  175 WER is :  0.8333333333333334\n",
      "At file  200 WER is :  0.5454545454545454\n",
      "At file  225 WER is :  1.1428571428571428\n",
      "At file  250 WER is :  0.7272727272727273\n",
      "At file  275 WER is :  1.1666666666666667\n",
      "At file  300 WER is :  0.5454545454545454\n",
      "At file  325 WER is :  1.0\n",
      "At file  350 WER is :  0.45454545454545453\n",
      "At file  375 WER is :  0.5714285714285714\n",
      "At file  400 WER is :  0.6363636363636364\n",
      "At file  425 WER is :  0.8\n",
      "At file  450 WER is :  0.45454545454545453\n",
      "At file  475 WER is :  0.875\n",
      "At file  500 WER is :  0.45454545454545453\n",
      "At file  525 WER is :  0.25\n",
      "At file  550 WER is :  0.7272727272727273\n",
      "At file  575 WER is :  1.0\n",
      "At file  600 WER is :  0.2727272727272727\n",
      "At file  625 WER is :  0.7\n",
      "At file  650 WER is :  0.2727272727272727\n",
      "At file  675 WER is :  1.7142857142857142\n",
      "At file  700 WER is :  0.8181818181818182\n",
      "At file  725 WER is :  0.9\n",
      "At file  750 WER is :  0.8181818181818182\n",
      "At file  775 WER is :  1.6666666666666667\n",
      "At file  800 WER is :  0.45454545454545453\n",
      "At file  825 WER is :  1.0\n",
      "At file  850 WER is :  0.7272727272727273\n",
      "At file  875 WER is :  0.8333333333333334\n",
      "At file  900 WER is :  0.09090909090909091\n",
      "At file  925 WER is :  1.0\n",
      "At file  950 WER is :  0.9090909090909091\n",
      "At file  975 WER is :  0.875\n",
      "At file  1000 WER is :  0.6363636363636364\n",
      "At file  1025 WER is :  1.0\n",
      "At file  1050 WER is :  0.8181818181818182\n",
      "At file  1075 WER is :  1.2857142857142858\n",
      "At file  1100 WER is :  0.7272727272727273\n",
      "At file  1125 WER is :  1.0\n",
      "At file  1150 WER is :  0.8181818181818182\n",
      "At file  1175 WER is :  0.7142857142857143\n",
      "At file  1200 WER is :  0.5454545454545454\n",
      "At file  1225 WER is :  1.0\n",
      "At file  1250 WER is :  0.2727272727272727\n",
      "At file  1275 WER is :  1.0\n",
      "At file  1300 WER is :  0.5454545454545454\n",
      "At file  1325 WER is :  0.7142857142857143\n",
      "At file  1350 WER is :  0.45454545454545453\n",
      "At file  1375 WER is :  0.75\n",
      "At file  1400 WER is :  0.7272727272727273\n",
      "At file  1425 WER is :  0.5714285714285714\n",
      "At file  1450 WER is :  0.5454545454545454\n",
      "At file  1475 WER is :  0.6666666666666666\n",
      "At file  1500 WER is :  0.45454545454545453\n",
      "At file  1525 WER is :  0.125\n",
      "At file  1550 WER is :  0.8181818181818182\n",
      "At file  1575 WER is :  1.0\n",
      "At file  1600 WER is :  0.2727272727272727\n",
      "At file  1625 WER is :  1.0\n",
      "At file  1650 WER is :  0.36363636363636365\n",
      "At file  1675 WER is :  1.0\n"
     ]
    }
   ],
   "source": [
    "wer_list_1=[]\n",
    "for i in range(0,len(test_wav_files_1),1):\n",
    "    fname='TIMIT_full\\\\TIMIT_full\\\\test\\\\'+'\\\\'.join(test_wav_files_1[i].split('/')[1].split('__')[:2])+'\\\\'+test_wav_files_1[i].split('/')[1].split('__')[2].split('_')[0]+'.txt'\n",
    "    real_sen=\" \".join(open(fname).read().split(\" \")[2:])\n",
    "    pred_sen = google_recognize(test_wav_files_1[i],key)\n",
    "    if(pred_sen==None):\n",
    "        pred_sen=''\n",
    "    wer_res = wer(pred_sen,real_sen)\n",
    "    wer_list_1.append(wer_res)\n",
    "    if(i%25)==0:\n",
    "        print(\"At file \",i,\"WER is : \",wer_res)"
   ]
  },
  {
   "cell_type": "markdown",
   "metadata": {},
   "source": [
    "## Mean and Standard Deviation of WER for 0 db SNR: "
   ]
  },
  {
   "cell_type": "code",
   "execution_count": 182,
   "metadata": {},
   "outputs": [
    {
     "name": "stdout",
     "output_type": "stream",
     "text": [
      "1680\n",
      "Mean of WER for 0 db SNR is :  0.9096140358466209\n",
      "Std of WER for 0 db SNR is :  0.2860723288963018\n"
     ]
    }
   ],
   "source": [
    "print(len(wer_list_1))\n",
    "print(\"Mean of WER for 0 db SNR is : \",np.mean(wer_list_1))\n",
    "print(\"Std of WER for 0 db SNR is : \",np.std(wer_list_1))"
   ]
  },
  {
   "cell_type": "code",
   "execution_count": 183,
   "metadata": {},
   "outputs": [
    {
     "name": "stdout",
     "output_type": "stream",
     "text": [
      "At file  0 WER is :  0.36363636363636365\n",
      "At file  25 WER is :  0.2\n",
      "At file  50 WER is :  0.18181818181818182\n",
      "At file  75 WER is :  0.42857142857142855\n",
      "At file  100 WER is :  0.18181818181818182\n",
      "At file  125 WER is :  0.7142857142857143\n",
      "At file  150 WER is :  0.09090909090909091\n",
      "At file  175 WER is :  0.3333333333333333\n",
      "At file  200 WER is :  0.2727272727272727\n",
      "At file  225 WER is :  0.14285714285714285\n",
      "At file  250 WER is :  0.09090909090909091\n",
      "At file  275 WER is :  0.8333333333333334\n",
      "At file  300 WER is :  0.09090909090909091\n",
      "At file  325 WER is :  0.14285714285714285\n",
      "At file  350 WER is :  0.18181818181818182\n",
      "At file  375 WER is :  0.14285714285714285\n",
      "At file  400 WER is :  0.18181818181818182\n",
      "At file  425 WER is :  0.1\n",
      "At file  450 WER is :  0.18181818181818182\n",
      "At file  475 WER is :  0.125\n",
      "At file  500 WER is :  0.2727272727272727\n",
      "At file  525 WER is :  0.125\n",
      "At file  550 WER is :  0.18181818181818182\n",
      "At file  575 WER is :  0.14285714285714285\n",
      "At file  600 WER is :  0.09090909090909091\n",
      "At file  625 WER is :  0.1\n",
      "At file  650 WER is :  0.18181818181818182\n",
      "At file  675 WER is :  0.7142857142857143\n",
      "At file  700 WER is :  0.09090909090909091\n",
      "At file  725 WER is :  0.4\n",
      "At file  750 WER is :  0.2727272727272727\n",
      "At file  775 WER is :  0.6666666666666666\n",
      "At file  800 WER is :  0.09090909090909091\n",
      "At file  825 WER is :  0.125\n",
      "At file  850 WER is :  0.18181818181818182\n",
      "At file  875 WER is :  0.5\n",
      "At file  900 WER is :  0.09090909090909091\n",
      "At file  925 WER is :  0.7142857142857143\n",
      "At file  950 WER is :  0.18181818181818182\n",
      "At file  975 WER is :  0.25\n",
      "At file  1000 WER is :  0.36363636363636365\n",
      "At file  1025 WER is :  0.5714285714285714\n",
      "At file  1050 WER is :  0.2727272727272727\n",
      "At file  1075 WER is :  0.8571428571428571\n",
      "At file  1100 WER is :  0.09090909090909091\n",
      "At file  1125 WER is :  0.14285714285714285\n",
      "At file  1150 WER is :  0.36363636363636365\n",
      "At file  1175 WER is :  0.2857142857142857\n",
      "At file  1200 WER is :  0.09090909090909091\n",
      "At file  1225 WER is :  0.3333333333333333\n",
      "At file  1250 WER is :  0.09090909090909091\n",
      "At file  1275 WER is :  0.2857142857142857\n",
      "At file  1300 WER is :  0.18181818181818182\n",
      "At file  1325 WER is :  0.14285714285714285\n",
      "At file  1350 WER is :  0.09090909090909091\n",
      "At file  1375 WER is :  0.125\n",
      "At file  1400 WER is :  0.09090909090909091\n",
      "At file  1425 WER is :  0.5714285714285714\n",
      "At file  1450 WER is :  0.09090909090909091\n",
      "At file  1475 WER is :  0.16666666666666666\n",
      "At file  1500 WER is :  0.09090909090909091\n",
      "At file  1525 WER is :  0.125\n",
      "At file  1550 WER is :  0.09090909090909091\n",
      "At file  1575 WER is :  0.125\n",
      "At file  1600 WER is :  0.09090909090909091\n",
      "At file  1625 WER is :  0.14285714285714285\n",
      "At file  1650 WER is :  0.09090909090909091\n",
      "At file  1675 WER is :  0.25\n"
     ]
    }
   ],
   "source": [
    "wer_list_2=[]\n",
    "for i in range(0,len(test_wav_files_2),1):\n",
    "    fname='TIMIT_full\\\\TIMIT_full\\\\test\\\\'+'\\\\'.join(test_wav_files_2[i].split('/')[1].split('__')[:2])+'\\\\'+test_wav_files_2[i].split('/')[1].split('__')[2].split('_')[0]+'.txt'\n",
    "    real_sen=\" \".join(open(fname).read().split(\" \")[2:])\n",
    "    pred_sen = google_recognize(test_wav_files_2[i],key)\n",
    "    if(pred_sen==None):\n",
    "        pred_sen=''\n",
    "    wer_res = wer(pred_sen,real_sen)\n",
    "    wer_list_2.append(wer_res)\n",
    "    if(i%25)==0:\n",
    "        print(\"At file \",i,\"WER is : \",wer_res)"
   ]
  },
  {
   "cell_type": "markdown",
   "metadata": {},
   "source": [
    "## Mean and Standard Deviation of WER for 10 db SNR: "
   ]
  },
  {
   "cell_type": "code",
   "execution_count": 184,
   "metadata": {},
   "outputs": [
    {
     "name": "stdout",
     "output_type": "stream",
     "text": [
      "1680\n",
      "Mean of WER for 10 db SNR is :  0.3062816113338559\n",
      "Std of WER for 10 db SNR is :  0.22937985256372115\n"
     ]
    }
   ],
   "source": [
    "print(len(wer_list_2))\n",
    "print(\"Mean of WER for 10 db SNR is : \",np.mean(wer_list_2))\n",
    "print(\"Std of WER for 10 db SNR is : \",np.std(wer_list_2))"
   ]
  },
  {
   "cell_type": "code",
   "execution_count": 185,
   "metadata": {},
   "outputs": [
    {
     "name": "stdout",
     "output_type": "stream",
     "text": [
      "At file  0 WER is :  0.09090909090909091\n",
      "At file  25 WER is :  0.2\n",
      "At file  50 WER is :  0.18181818181818182\n",
      "At file  75 WER is :  0.42857142857142855\n",
      "At file  100 WER is :  0.09090909090909091\n",
      "At file  125 WER is :  0.14285714285714285\n",
      "At file  150 WER is :  0.09090909090909091\n",
      "At file  175 WER is :  0.3333333333333333\n",
      "At file  200 WER is :  0.18181818181818182\n",
      "At file  225 WER is :  0.14285714285714285\n",
      "At file  250 WER is :  0.09090909090909091\n",
      "At file  275 WER is :  0.16666666666666666\n",
      "At file  300 WER is :  0.09090909090909091\n",
      "At file  325 WER is :  0.14285714285714285\n",
      "At file  350 WER is :  0.18181818181818182\n",
      "At file  375 WER is :  0.14285714285714285\n",
      "At file  400 WER is :  0.18181818181818182\n",
      "At file  425 WER is :  0.1\n",
      "At file  450 WER is :  0.18181818181818182\n",
      "At file  475 WER is :  0.125\n",
      "At file  500 WER is :  0.18181818181818182\n",
      "At file  525 WER is :  0.125\n",
      "At file  550 WER is :  0.18181818181818182\n",
      "At file  575 WER is :  0.14285714285714285\n",
      "At file  600 WER is :  0.09090909090909091\n",
      "At file  625 WER is :  0.1\n",
      "At file  650 WER is :  0.18181818181818182\n",
      "At file  675 WER is :  0.14285714285714285\n",
      "At file  700 WER is :  0.09090909090909091\n",
      "At file  725 WER is :  0.1\n",
      "At file  750 WER is :  0.18181818181818182\n",
      "At file  775 WER is :  0.16666666666666666\n",
      "At file  800 WER is :  0.09090909090909091\n",
      "At file  825 WER is :  0.125\n",
      "At file  850 WER is :  0.18181818181818182\n",
      "At file  875 WER is :  0.3333333333333333\n",
      "At file  900 WER is :  0.09090909090909091\n",
      "At file  925 WER is :  0.5714285714285714\n",
      "At file  950 WER is :  0.09090909090909091\n",
      "At file  975 WER is :  0.25\n",
      "At file  1000 WER is :  0.18181818181818182\n",
      "At file  1025 WER is :  0.42857142857142855\n",
      "At file  1050 WER is :  0.18181818181818182\n",
      "At file  1075 WER is :  0.2857142857142857\n",
      "At file  1100 WER is :  0.09090909090909091\n",
      "At file  1125 WER is :  0.5714285714285714\n",
      "At file  1150 WER is :  0.36363636363636365\n",
      "At file  1175 WER is :  0.2857142857142857\n",
      "At file  1200 WER is :  0.09090909090909091\n",
      "At file  1225 WER is :  0.3333333333333333\n",
      "At file  1250 WER is :  0.09090909090909091\n",
      "At file  1275 WER is :  0.14285714285714285\n",
      "At file  1300 WER is :  0.18181818181818182\n",
      "At file  1325 WER is :  0.14285714285714285\n",
      "At file  1350 WER is :  0.09090909090909091\n",
      "At file  1375 WER is :  0.125\n",
      "At file  1400 WER is :  0.09090909090909091\n",
      "At file  1425 WER is :  0.42857142857142855\n",
      "At file  1450 WER is :  0.18181818181818182\n",
      "At file  1475 WER is :  0.16666666666666666\n",
      "At file  1500 WER is :  0.09090909090909091\n",
      "At file  1525 WER is :  0.125\n",
      "At file  1550 WER is :  0.09090909090909091\n",
      "At file  1575 WER is :  0.125\n",
      "At file  1600 WER is :  0.09090909090909091\n",
      "At file  1625 WER is :  0.14285714285714285\n",
      "At file  1650 WER is :  0.09090909090909091\n",
      "At file  1675 WER is :  0.25\n"
     ]
    }
   ],
   "source": [
    "wer_list_3=[]\n",
    "for i in range(0,len(test_wav_files_3),1):\n",
    "    fname='TIMIT_full\\\\TIMIT_full\\\\test\\\\'+'\\\\'.join(test_wav_files_3[i].split('/')[1].split('__')[:2])+'\\\\'+test_wav_files_3[i].split('/')[1].split('__')[2].split('_')[0]+'.txt'\n",
    "    real_sen=\" \".join(open(fname).read().split(\" \")[2:])\n",
    "    pred_sen = google_recognize(test_wav_files_3[i],key)\n",
    "    if(pred_sen==None):\n",
    "        pred_sen=''\n",
    "    wer_res = wer(pred_sen,real_sen)\n",
    "    wer_list_3.append(wer_res)\n",
    "    if(i%25)==0:\n",
    "        print(\"At file \",i,\"WER is : \",wer_res)"
   ]
  },
  {
   "cell_type": "markdown",
   "metadata": {},
   "source": [
    "## Mean and Standard Deviation of WER for 25 db SNR: "
   ]
  },
  {
   "cell_type": "code",
   "execution_count": 186,
   "metadata": {},
   "outputs": [
    {
     "name": "stdout",
     "output_type": "stream",
     "text": [
      "1680\n",
      "Mean of WER for 25 db SNR is :  0.2310352824701426\n",
      "Std of WER for 25 db SNR is :  0.15624296087846523\n"
     ]
    }
   ],
   "source": [
    "print(len(wer_list_3))\n",
    "print(\"Mean of WER for 25 db SNR is : \",np.mean(wer_list_3))\n",
    "print(\"Std of WER for 25 db SNR is : \",np.std(wer_list_3))"
   ]
  },
  {
   "cell_type": "code",
   "execution_count": null,
   "metadata": {},
   "outputs": [],
   "source": []
  },
  {
   "cell_type": "markdown",
   "metadata": {},
   "source": [
    "## Result Summarization\n",
    "Original Data:\n",
    "Mean WER is :  0.2321\n",
    "Std of WER is :  0.156\n",
    "    \n",
    "    \n",
    "-5db: \n",
    "Mean of WER for -5 db SNR is :  1.095\n",
    "Std of WER for -5 db SNR is :  0.356\n",
    "    \n",
    "0db:   \n",
    "Mean of WER for 0 db SNR is :  0.909\n",
    "Std of WER for 0 db SNR is :  0.286\n",
    "\n",
    "10 db:\n",
    "Mean of WER for 10 db SNR is :  0.306\n",
    "Std of WER for 10 db SNR is :  0.2293\n",
    "\n",
    "25 db:\n",
    "Mean of WER for 25 db SNR is :  0.231\n",
    "Std of WER for 25 db SNR is :  0.1562\n",
    "\n",
    "\n",
    "## Comparison as we increase SNR:\n",
    "We can clearly see that as we increase SNR, the WER decreases. It is very obvious why this happens as when Signal quality increases, we can see WER to decrease accordingly. \n",
    "Apart from this, we can see that standard deviation also decreases. The reason behind this is that when our quality of signal increases ie when SNR increases, Google API can be more and more confident about predicting speech word because it gets clear speech heard. Now if Google API models confidence increases for each word that it predicts it can lead us to less standard deviation obviously as confidence level for each word increases. \n",
    "\n",
    "## Comparison with Traditional System:\n",
    "If we compare WER of 0.2321 on original data for Google API with respect to WER of approximately 0.22 from Kaldi, it was astonishing to me at first glance as I really expected google api to perform way more better than Kaldi but it turns out that kaldi performed as well as google API. In fact the Kaldi system performed a bit better when we used 3 Hidden Layers with WER of 21.8. "
   ]
  }
 ],
 "metadata": {
  "colab": {
   "collapsed_sections": [],
   "name": "Google Clould ASR Tutorial.ipynb",
   "provenance": [],
   "toc_visible": true
  },
  "kernelspec": {
   "display_name": "Python 3",
   "language": "python",
   "name": "python3"
  },
  "language_info": {
   "codemirror_mode": {
    "name": "ipython",
    "version": 3
   },
   "file_extension": ".py",
   "mimetype": "text/x-python",
   "name": "python",
   "nbconvert_exporter": "python",
   "pygments_lexer": "ipython3",
   "version": "3.7.1"
  }
 },
 "nbformat": 4,
 "nbformat_minor": 1
}
