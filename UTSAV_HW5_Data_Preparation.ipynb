{
 "cells": [
  {
   "cell_type": "code",
   "execution_count": 77,
   "metadata": {},
   "outputs": [],
   "source": [
    "from scipy.io.wavfile import read\n",
    "import matplotlib.pyplot as plt\n",
    "import numpy as np\n",
    "import math\n",
    "import soundfile as sf\n",
    "from scipy import signal\n",
    "import librosa\n"
   ]
  },
  {
   "cell_type": "code",
   "execution_count": 83,
   "metadata": {},
   "outputs": [],
   "source": [
    "noise1,sr1=sf.read(r\"TIMIT_full/TIMIT_full/train/dr1/fcjf0/sa1.wav\")\n",
    "noise = librosa.resample(noise1,sr1,16000)"
   ]
  },
  {
   "cell_type": "code",
   "execution_count": 79,
   "metadata": {},
   "outputs": [
    {
     "data": {
      "text/plain": [
       "46797"
      ]
     },
     "execution_count": 79,
     "metadata": {},
     "output_type": "execute_result"
    }
   ],
   "source": [
    "len(noise)"
   ]
  },
  {
   "cell_type": "code",
   "execution_count": 80,
   "metadata": {},
   "outputs": [],
   "source": [
    "def snr_calculate(speech_data,noise_data):\n",
    "    speech_energy=np.sum(np.array(speech_data, dtype='int64')**2)\n",
    "    noise_energy=np.sum(np.array(noise_data, dtype='int64')**2)\n",
    "    ratio=speech_energy/noise_energy\n",
    "    sound_level=10*math.log(ratio,10)\n",
    "    return sound_level\n",
    "# Function that creates noisy speech signal by combining noise and clean speech at desired SNR level.\n",
    "def generate_signal(speech_data,noise_data,dsnr,outputfilename):\n",
    "#     print(len(speech_data),len(noise_data))\n",
    "    if(len(speech_data)>=len(noise_data)):\n",
    "        temp_noise_data=noise_data.copy()\n",
    "        diff=len(speech_data)-len(noise_data)\n",
    "#         print(\"Initial Diff is :\",diff)\n",
    "        while diff!=0:\n",
    "            if(diff>len(noise_data)):\n",
    "                temp_noise_data=np.concatenate((temp_noise_data,noise_data))\n",
    "#                 temp_noise_data.extend(noise_data)\n",
    "                diff-=len(noise_data)\n",
    "            else:\n",
    "                temp_noise_data=np.concatenate((temp_noise_data,noise_data[0:diff]))\n",
    "#                 temp_noise_data.extend(noise_data[0:diff])\n",
    "                \n",
    "                diff-=len(noise_data[0:diff])\n",
    "#             print(\"diff is: \",diff)\n",
    "    else:\n",
    "        temp_noise_data=noise_data[0:len(speech_data)]\n",
    "    speech_energy=sum(np.array(speech_data)**2)\n",
    "    noise_energy=np.sum(np.array(temp_noise_data)**2)\n",
    "    b=np.sqrt((speech_energy/noise_energy)*(10**(-dsnr/10)))\n",
    "#     print(temp_noise_data)\n",
    "#     print(b)\n",
    "    temp_noise_data=np.asarray(temp_noise_data)\n",
    "    updated_noise=np.array(b*temp_noise_data)\n",
    "#     print(\"Noise : \",len(updated_noise))\n",
    "#     print(\"Speech : \",len(speech_data))\n",
    "    updated_noisy_signal=updated_noise+speech_data\n",
    "#     print(\"Speech : \",len(updated_noisy_signal))\n",
    "    sf.write(file=outputfilename,data=updated_noisy_signal,samplerate=16000)\n",
    "    ss,sr = librosa.load(outputfilename,sr=None)\n",
    "    S = librosa.stft(ss,n_fft=512,hop_length=160,win_length=320)\n",
    "    return \n"
   ]
  },
  {
   "cell_type": "code",
   "execution_count": 81,
   "metadata": {},
   "outputs": [],
   "source": [
    "import os\n",
    "test_wav_files2=[]\n",
    "for root, dirs, files in os.walk(\"TIMIT_full\\\\TIMIT_full\\\\test\\\\\"):\n",
    "    for file in files:\n",
    "        if file.endswith(\".wav\"):\n",
    "             test_wav_files2.append(os.path.join(root, file))"
   ]
  },
  {
   "cell_type": "code",
   "execution_count": 82,
   "metadata": {},
   "outputs": [],
   "source": [
    "for filename in test_wav_files2:\n",
    "    destination_file_name=\"PREPARED_DATASET\\\\\"+\"__\".join(str(filename).split(\"\\\\\")[-3:]).split('.')[0]\n",
    "    speech_signal,sr=sf.read(filename)\n",
    "    speech_signal = librosa.resample(speech_signal,sr,16000)\n",
    "    len_speech_signal=len(speech_signal)\n",
    "    \n",
    "    for index,each_snr in enumerate([-5, 0, 10,25]):\n",
    "#         print(index)\n",
    "        generate_signal(speech_signal,noise,each_snr,destination_file_name+\"_\"+str(index)+'.wav')\n"
   ]
  },
  {
   "cell_type": "code",
   "execution_count": 89,
   "metadata": {},
   "outputs": [
    {
     "name": "stdout",
     "output_type": "stream",
     "text": [
      "There are total 6720 files in PREPARED DATASET FOLDER\n"
     ]
    }
   ],
   "source": [
    "print(\"There are total %s files in PREPARED DATASET FOLDER\" % len(os.listdir(\"PREPARED_DATASET\")))"
   ]
  },
  {
   "cell_type": "code",
   "execution_count": 91,
   "metadata": {},
   "outputs": [
    {
     "data": {
      "text/plain": [
       "['dr1__faks0__sa1_0.wav',\n",
       " 'dr1__faks0__sa1_1.wav',\n",
       " 'dr1__faks0__sa1_2.wav',\n",
       " 'dr1__faks0__sa1_3.wav',\n",
       " 'dr1__faks0__sa2_0.wav',\n",
       " 'dr1__faks0__sa2_1.wav',\n",
       " 'dr1__faks0__sa2_2.wav',\n",
       " 'dr1__faks0__sa2_3.wav',\n",
       " 'dr1__faks0__si1573_0.wav',\n",
       " 'dr1__faks0__si1573_1.wav',\n",
       " 'dr1__faks0__si1573_2.wav',\n",
       " 'dr1__faks0__si1573_3.wav',\n",
       " 'dr1__faks0__si2203_0.wav',\n",
       " 'dr1__faks0__si2203_1.wav',\n",
       " 'dr1__faks0__si2203_2.wav',\n",
       " 'dr1__faks0__si2203_3.wav',\n",
       " 'dr1__faks0__si943_0.wav',\n",
       " 'dr1__faks0__si943_1.wav',\n",
       " 'dr1__faks0__si943_2.wav',\n",
       " 'dr1__faks0__si943_3.wav']"
      ]
     },
     "execution_count": 91,
     "metadata": {},
     "output_type": "execute_result"
    }
   ],
   "source": [
    "os.listdir(\"PREPARED_DATASET\")[:20]"
   ]
  },
  {
   "cell_type": "code",
   "execution_count": 92,
   "metadata": {},
   "outputs": [
    {
     "data": {
      "text/plain": [
       "['dr8__mslb0__sx113_0.wav',\n",
       " 'dr8__mslb0__sx113_1.wav',\n",
       " 'dr8__mslb0__sx113_2.wav',\n",
       " 'dr8__mslb0__sx113_3.wav',\n",
       " 'dr8__mslb0__sx203_0.wav',\n",
       " 'dr8__mslb0__sx203_1.wav',\n",
       " 'dr8__mslb0__sx203_2.wav',\n",
       " 'dr8__mslb0__sx203_3.wav',\n",
       " 'dr8__mslb0__sx23_0.wav',\n",
       " 'dr8__mslb0__sx23_1.wav',\n",
       " 'dr8__mslb0__sx23_2.wav',\n",
       " 'dr8__mslb0__sx23_3.wav',\n",
       " 'dr8__mslb0__sx293_0.wav',\n",
       " 'dr8__mslb0__sx293_1.wav',\n",
       " 'dr8__mslb0__sx293_2.wav',\n",
       " 'dr8__mslb0__sx293_3.wav',\n",
       " 'dr8__mslb0__sx383_0.wav',\n",
       " 'dr8__mslb0__sx383_1.wav',\n",
       " 'dr8__mslb0__sx383_2.wav',\n",
       " 'dr8__mslb0__sx383_3.wav']"
      ]
     },
     "execution_count": 92,
     "metadata": {},
     "output_type": "execute_result"
    }
   ],
   "source": [
    "os.listdir(\"PREPARED_DATASET\")[-20:]"
   ]
  }
 ],
 "metadata": {
  "kernelspec": {
   "display_name": "Python 3",
   "language": "python",
   "name": "python3"
  },
  "language_info": {
   "codemirror_mode": {
    "name": "ipython",
    "version": 3
   },
   "file_extension": ".py",
   "mimetype": "text/x-python",
   "name": "python",
   "nbconvert_exporter": "python",
   "pygments_lexer": "ipython3",
   "version": "3.7.1"
  }
 },
 "nbformat": 4,
 "nbformat_minor": 2
}
